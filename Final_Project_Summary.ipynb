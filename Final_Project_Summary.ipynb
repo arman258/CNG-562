{
  "nbformat": 4,
  "nbformat_minor": 0,
  "metadata": {
    "colab": {
      "name": "CNG562_Final_Project_Summary.ipynb",
      "version": "0.3.2",
      "provenance": [],
      "include_colab_link": true
    },
    "language_info": {
      "codemirror_mode": {
        "name": "ipython",
        "version": 3
      },
      "file_extension": ".py",
      "mimetype": "text/x-python",
      "name": "python",
      "nbconvert_exporter": "python",
      "pygments_lexer": "ipython3",
      "version": "3.6.8"
    },
    "kernelspec": {
      "display_name": "Python 3",
      "language": "python",
      "name": "python3"
    }
  },
  "cells": [
    {
      "cell_type": "markdown",
      "metadata": {
        "id": "view-in-github",
        "colab_type": "text"
      },
      "source": [
        "<a href=\"https://colab.research.google.com/github/arman258/CNG-562/blob/master/Final_Project_Summary.ipynb\" target=\"_parent\"><img src=\"https://colab.research.google.com/assets/colab-badge.svg\" alt=\"Open In Colab\"/></a>"
      ]
    },
    {
      "cell_type": "markdown",
      "metadata": {
        "id": "eqn3YpJjrZ6t",
        "colab_type": "text"
      },
      "source": [
        "# CNG 562 Final Project Summary\n",
        "\n",
        "\n",
        "## Participants (Ordered by Surname)\n",
        "\n",
        "1. Arman, Malekloo, 2328979\n",
        "2. Shima, Mohaghegh, 2328375\n",
        "3. Negar, Zarepakzad, 2338267\n"
      ]
    },
    {
      "cell_type": "markdown",
      "metadata": {
        "id": "qkX7c5AQrZ6z",
        "colab_type": "text"
      },
      "source": [
        "## Problem Description\n",
        "\n",
        "Forecasting is an important statistical task in different fields of business, where it aids informing decisions about the managing the production, transportation and personnel. Forecasting provides a guidance to have long-term planning. In this project we are aiming to forecast the future price of Bitcoins and New York stock exchange. Time series forecasting is an essential part of machine learning. The importance is due to existence of many prediction problems that include a time feature. However, as the time feature provides additional information, it also makes time series problems more complex to deal, comparing with other prediction tasks.\n",
        "Forecasting how the stock market will behave is one of the most complex task to do. Many factors such as physical vs. physiological, rational and irrational behavior make stock/bitcoin prices sensitive and very challenging to obtain high degree prediction accuracy. Machine learning methods have the capacity to unveil patterns and insights we didn’t see before, and these can be used to make accurate predictions.\n",
        "We aim to use LSTM, and RNN to do time series forecasting of the aforementioned datasets."
      ]
    },
    {
      "cell_type": "markdown",
      "metadata": {
        "id": "227b3ugBrZ62",
        "colab_type": "text"
      },
      "source": [
        "## Data Description\n",
        "\n",
        "Both datasets are selected from Kaggle competition. Bitcoin data set consists of seven features (date, open, high, low, close, volume & market cap). Training Data is obtained from April 2013 to August 2017 having 1557 entries. Test Data includes 1 week in August 2017 having 7 entries. The link is as follows: https://www.kaggle.com/team-ai/bitcoin-price-prediction\n",
        "New York stock exchange consist of four data sets namely: fundamentals, price split adjusted, prices, securities, having 79, 7, 7, 8 features respectively. The link is as follows: https://www.kaggle.com/dgawlik/nyse#prices-split-adjusted.csv"
      ]
    },
    {
      "cell_type": "markdown",
      "metadata": {
        "id": "XNXNfOiDrZ64",
        "colab_type": "text"
      },
      "source": [
        "## Solution Description\n",
        "\n",
        "By utilzing LSTM we achieved to predict bitcoin and NYSE closing values by remebering past 20-days to predict the next day. We also confirmed our results with other methods such as Moving Average and Exponential Moving Average. LSTM managed to outperform these two methods proving its benefits in predicting information for time series forcasting."
      ]
    },
    {
      "cell_type": "markdown",
      "metadata": {
        "id": "XAgP5JEXrZ69",
        "colab_type": "text"
      },
      "source": [
        "## Project Results\n",
        "\n",
        "LSTM Prediction Accuracy:\n",
        "\n",
        "*   Bitcoin\n",
        "     * Train Score: 0.00010 MSE (0.01 RMSE)\n",
        "     *Test Score: 0.00310 MSE (0.06 RMSE)\n",
        "\n",
        "*   Bitcoin\n",
        "  * Train Score: 0.00477 MSE (0.07 RMSE)\n",
        "  *Test Score: 0.00044 MSE (0.02 RMSE)\n",
        "\n",
        "\n",
        "\n",
        "\n"
      ]
    },
    {
      "cell_type": "markdown",
      "metadata": {
        "id": "4jHD8osKrZ6_",
        "colab_type": "text"
      },
      "source": [
        "## Further Comments on your work\n",
        "\n",
        "With zero knowledge of ML and AI in the begining of the semester, with the help of Prof. Dr. Kursat Aker, we managed to grasped the fundamentals of ML such regression and classification predictions, as well as the basics of computer vision and Deep Learning."
      ]
    },
    {
      "cell_type": "code",
      "metadata": {
        "id": "CWCdB7FKrZ7B",
        "colab_type": "code",
        "colab": {}
      },
      "source": [
        ""
      ],
      "execution_count": 0,
      "outputs": []
    },
    {
      "cell_type": "code",
      "metadata": {
        "id": "6Gv-O7mIrZ7G",
        "colab_type": "code",
        "colab": {}
      },
      "source": [
        ""
      ],
      "execution_count": 0,
      "outputs": []
    }
  ]
}