{
  "nbformat": 4,
  "nbformat_minor": 0,
  "metadata": {
    "colab": {
      "name": "CNG562_Final_Project_Summary.ipynb",
      "version": "0.3.2",
      "provenance": [],
      "include_colab_link": true
    },
    "language_info": {
      "codemirror_mode": {
        "name": "ipython",
        "version": 3
      },
      "file_extension": ".py",
      "mimetype": "text/x-python",
      "name": "python",
      "nbconvert_exporter": "python",
      "pygments_lexer": "ipython3",
      "version": "3.6.8"
    },
    "kernelspec": {
      "display_name": "Python 3",
      "language": "python",
      "name": "python3"
    }
  },
  "cells": [
    {
      "cell_type": "markdown",
      "metadata": {
        "id": "view-in-github",
        "colab_type": "text"
      },
      "source": [
        "<a href=\"https://colab.research.google.com/github/arman258/CNG-562/blob/master/Final_Project_Summary.ipynb\" target=\"_parent\"><img src=\"https://colab.research.google.com/assets/colab-badge.svg\" alt=\"Open In Colab\"/></a>"
      ]
    },
    {
      "cell_type": "markdown",
      "metadata": {
        "id": "eChv3YT1qg_I",
        "colab_type": "text"
      },
      "source": [
        "# CNG 562 Final Project Summary\n",
        "\n",
        "\n",
        "## Participants (Ordered by Surname)\n",
        "\n",
        "1. Participant #1: Name, Surname, Student ID\n",
        "2. Participant #2: Name, Surname, Student ID\n",
        "3. Participant #3: Name, Surname, Student ID\n"
      ]
    },
    {
      "cell_type": "markdown",
      "metadata": {
        "id": "X3HQ6zTqqg_N",
        "colab_type": "text"
      },
      "source": [
        "## Problem Description\n",
        "\n",
        "... goes here."
      ]
    },
    {
      "cell_type": "markdown",
      "metadata": {
        "id": "miHr3PUzqg_Q",
        "colab_type": "text"
      },
      "source": [
        "## Data Description\n",
        "\n",
        "... goes here."
      ]
    },
    {
      "cell_type": "markdown",
      "metadata": {
        "id": "xGo74Mnvqg_S",
        "colab_type": "text"
      },
      "source": [
        "## Solution Description\n",
        "\n",
        "Comment on your work here.\n",
        "\n"
      ]
    },
    {
      "cell_type": "markdown",
      "metadata": {
        "id": "oFVmpXV6qg_X",
        "colab_type": "text"
      },
      "source": [
        "## Project Results\n",
        "\n",
        "Describe the results you have obtained.\n",
        "\n",
        "If you are able to submit your work to Kaggle, please state your position in the competition.\n"
      ]
    },
    {
      "cell_type": "markdown",
      "metadata": {
        "id": "yBbYgHwvqg_Z",
        "colab_type": "text"
      },
      "source": [
        "## Further Comments on your work\n",
        "\n",
        "If necessary, please add further information on your work on the final project."
      ]
    },
    {
      "cell_type": "code",
      "metadata": {
        "id": "IRQNKbSPqg_b",
        "colab_type": "code",
        "colab": {}
      },
      "source": [
        ""
      ],
      "execution_count": 0,
      "outputs": []
    },
    {
      "cell_type": "code",
      "metadata": {
        "id": "HGpFu7J3qg_i",
        "colab_type": "code",
        "colab": {}
      },
      "source": [
        ""
      ],
      "execution_count": 0,
      "outputs": []
    }
  ]
}