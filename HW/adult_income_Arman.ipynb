{
 "cells": [
  {
   "cell_type": "code",
   "execution_count": null,
   "metadata": {},
   "outputs": [],
   "source": [
    "%reset"
   ]
  },
  {
   "cell_type": "markdown",
   "metadata": {},
   "source": [
    "### DOWNLOAD DATA"
   ]
  },
  {
   "cell_type": "code",
   "execution_count": null,
   "metadata": {},
   "outputs": [],
   "source": [
    "import os\n",
    "import requests\n",
    "\n",
    "CENSUS = (\n",
    "    \"http://archive.ics.uci.edu/ml/machine-learning-databases/adult/adult.data\",\n",
    "    \"http://archive.ics.uci.edu/ml/machine-learning-databases/adult/adult.names\",\n",
    "    \"http://archive.ics.uci.edu/ml/machine-learning-databases/adult/adult.test\",\n",
    ")\n",
    "def dl_data(path='cencus_data', urls=CENSUS):\n",
    "    if not os.path.exists(path):\n",
    "        os.mkdir(path)\n",
    "    for url in urls:\n",
    "        response = requests.get(url)\n",
    "        name = os.path.basename(url)\n",
    "        with open(os.path.join(path, name), 'wb') as f:\n",
    "            f.write(response.content)\n",
    "            \n",
    "dl_data()"
   ]
  },
  {
   "cell_type": "markdown",
   "metadata": {},
   "source": [
    "### LOAD AND INITIAL CLEANING"
   ]
  },
  {
   "cell_type": "code",
   "execution_count": 1,
   "metadata": {},
   "outputs": [
    {
     "name": "stdout",
     "output_type": "stream",
     "text": [
      "<class 'pandas.core.frame.DataFrame'>\n",
      "RangeIndex: 48842 entries, 0 to 48841\n",
      "Data columns (total 15 columns):\n",
      "age               48842 non-null int64\n",
      "workclass         46043 non-null object\n",
      "fnlwgt            48842 non-null int64\n",
      "education         48842 non-null object\n",
      "education_num     48842 non-null int64\n",
      "marital_status    48842 non-null object\n",
      "occupation        46033 non-null object\n",
      "relationship      48842 non-null object\n",
      "race              48842 non-null object\n",
      "sex               48842 non-null object\n",
      "capital_gain      48842 non-null int64\n",
      "capital_loss      48842 non-null int64\n",
      "hours_per_week    48842 non-null int64\n",
      "native_country    47985 non-null object\n",
      "income            48842 non-null int64\n",
      "dtypes: int64(7), object(8)\n",
      "memory usage: 5.6+ MB\n"
     ]
    }
   ],
   "source": [
    "import numpy as np\n",
    "import pandas as pd\n",
    "import seaborn as sns\n",
    "import matplotlib.pyplot as plt\n",
    "\n",
    "names = [\n",
    "        \"age\",\n",
    "        \"workclass\",\n",
    "        \"fnlwgt\",\n",
    "        \"education\",\n",
    "        \"education_num\",\n",
    "        \"marital_status\",\n",
    "        \"occupation\",\n",
    "        \"relationship\",\n",
    "        \"race\",\n",
    "        \"sex\",\n",
    "        \"capital_gain\",\n",
    "        \"capital_loss\",\n",
    "        \"hours_per_week\",\n",
    "        \"native_country\",\n",
    "        \"income\",  \n",
    "]\n",
    "\n",
    "df_train = pd.read_csv('cencus_data/adult.data', names=names)\n",
    "df_test  = pd.read_csv('cencus_data/adult.test', names=names, skiprows=1)\n",
    "\n",
    "adult = pd.concat([df_train,df_test])\n",
    "adult.replace(' ?', np.nan, inplace=True)\n",
    "# adult.dropna()\n",
    "adult.replace(to_replace=r'\\.',value=r'', regex=True, inplace=True)\n",
    "adult.replace(to_replace=r' ',value=r'', regex=True, inplace=True)\n",
    "adult.reset_index(inplace = True, drop = True)\n",
    "\n",
    "adult['income'] = adult.income.replace(['<=50K', '>50K'], [0, 1]).astype(np.int64)\n",
    "adult.info()"
   ]
  },
  {
   "cell_type": "code",
   "execution_count": 2,
   "metadata": {},
   "outputs": [
    {
     "data": {
      "text/html": [
       "<div>\n",
       "<style scoped>\n",
       "    .dataframe tbody tr th:only-of-type {\n",
       "        vertical-align: middle;\n",
       "    }\n",
       "\n",
       "    .dataframe tbody tr th {\n",
       "        vertical-align: top;\n",
       "    }\n",
       "\n",
       "    .dataframe thead th {\n",
       "        text-align: right;\n",
       "    }\n",
       "</style>\n",
       "<table border=\"1\" class=\"dataframe\">\n",
       "  <thead>\n",
       "    <tr style=\"text-align: right;\">\n",
       "      <th></th>\n",
       "      <th>age</th>\n",
       "      <th>workclass</th>\n",
       "      <th>fnlwgt</th>\n",
       "      <th>education</th>\n",
       "      <th>education_num</th>\n",
       "      <th>marital_status</th>\n",
       "      <th>occupation</th>\n",
       "      <th>relationship</th>\n",
       "      <th>race</th>\n",
       "      <th>sex</th>\n",
       "      <th>capital_gain</th>\n",
       "      <th>capital_loss</th>\n",
       "      <th>hours_per_week</th>\n",
       "      <th>native_country</th>\n",
       "      <th>income</th>\n",
       "    </tr>\n",
       "  </thead>\n",
       "  <tbody>\n",
       "    <tr>\n",
       "      <th>0</th>\n",
       "      <td>39</td>\n",
       "      <td>State-gov</td>\n",
       "      <td>77516</td>\n",
       "      <td>Bachelors</td>\n",
       "      <td>13</td>\n",
       "      <td>Never-married</td>\n",
       "      <td>Adm-clerical</td>\n",
       "      <td>Not-in-family</td>\n",
       "      <td>White</td>\n",
       "      <td>Male</td>\n",
       "      <td>2174</td>\n",
       "      <td>0</td>\n",
       "      <td>40</td>\n",
       "      <td>United-States</td>\n",
       "      <td>0</td>\n",
       "    </tr>\n",
       "    <tr>\n",
       "      <th>1</th>\n",
       "      <td>50</td>\n",
       "      <td>Self-emp-not-inc</td>\n",
       "      <td>83311</td>\n",
       "      <td>Bachelors</td>\n",
       "      <td>13</td>\n",
       "      <td>Married-civ-spouse</td>\n",
       "      <td>Exec-managerial</td>\n",
       "      <td>Husband</td>\n",
       "      <td>White</td>\n",
       "      <td>Male</td>\n",
       "      <td>0</td>\n",
       "      <td>0</td>\n",
       "      <td>13</td>\n",
       "      <td>United-States</td>\n",
       "      <td>0</td>\n",
       "    </tr>\n",
       "    <tr>\n",
       "      <th>2</th>\n",
       "      <td>38</td>\n",
       "      <td>Private</td>\n",
       "      <td>215646</td>\n",
       "      <td>HS-grad</td>\n",
       "      <td>9</td>\n",
       "      <td>Divorced</td>\n",
       "      <td>Handlers-cleaners</td>\n",
       "      <td>Not-in-family</td>\n",
       "      <td>White</td>\n",
       "      <td>Male</td>\n",
       "      <td>0</td>\n",
       "      <td>0</td>\n",
       "      <td>40</td>\n",
       "      <td>United-States</td>\n",
       "      <td>0</td>\n",
       "    </tr>\n",
       "    <tr>\n",
       "      <th>3</th>\n",
       "      <td>53</td>\n",
       "      <td>Private</td>\n",
       "      <td>234721</td>\n",
       "      <td>11th</td>\n",
       "      <td>7</td>\n",
       "      <td>Married-civ-spouse</td>\n",
       "      <td>Handlers-cleaners</td>\n",
       "      <td>Husband</td>\n",
       "      <td>Black</td>\n",
       "      <td>Male</td>\n",
       "      <td>0</td>\n",
       "      <td>0</td>\n",
       "      <td>40</td>\n",
       "      <td>United-States</td>\n",
       "      <td>0</td>\n",
       "    </tr>\n",
       "    <tr>\n",
       "      <th>4</th>\n",
       "      <td>28</td>\n",
       "      <td>Private</td>\n",
       "      <td>338409</td>\n",
       "      <td>Bachelors</td>\n",
       "      <td>13</td>\n",
       "      <td>Married-civ-spouse</td>\n",
       "      <td>Prof-specialty</td>\n",
       "      <td>Wife</td>\n",
       "      <td>Black</td>\n",
       "      <td>Female</td>\n",
       "      <td>0</td>\n",
       "      <td>0</td>\n",
       "      <td>40</td>\n",
       "      <td>Cuba</td>\n",
       "      <td>0</td>\n",
       "    </tr>\n",
       "  </tbody>\n",
       "</table>\n",
       "</div>"
      ],
      "text/plain": [
       "   age         workclass  fnlwgt  education  education_num  \\\n",
       "0   39         State-gov   77516  Bachelors             13   \n",
       "1   50  Self-emp-not-inc   83311  Bachelors             13   \n",
       "2   38           Private  215646    HS-grad              9   \n",
       "3   53           Private  234721       11th              7   \n",
       "4   28           Private  338409  Bachelors             13   \n",
       "\n",
       "       marital_status         occupation   relationship   race     sex  \\\n",
       "0       Never-married       Adm-clerical  Not-in-family  White    Male   \n",
       "1  Married-civ-spouse    Exec-managerial        Husband  White    Male   \n",
       "2            Divorced  Handlers-cleaners  Not-in-family  White    Male   \n",
       "3  Married-civ-spouse  Handlers-cleaners        Husband  Black    Male   \n",
       "4  Married-civ-spouse     Prof-specialty           Wife  Black  Female   \n",
       "\n",
       "   capital_gain  capital_loss  hours_per_week native_country  income  \n",
       "0          2174             0              40  United-States       0  \n",
       "1             0             0              13  United-States       0  \n",
       "2             0             0              40  United-States       0  \n",
       "3             0             0              40  United-States       0  \n",
       "4             0             0              40           Cuba       0  "
      ]
     },
     "execution_count": 2,
     "metadata": {},
     "output_type": "execute_result"
    }
   ],
   "source": [
    "adult.head()"
   ]
  },
  {
   "cell_type": "markdown",
   "metadata": {},
   "source": [
    "### CHNAGE DATA TYPE"
   ]
  },
  {
   "cell_type": "code",
   "execution_count": 3,
   "metadata": {},
   "outputs": [],
   "source": [
    "# adult['income'] = adult['income'].astype('int64')\n",
    "adult[adult.select_dtypes('object').columns]= adult.select_dtypes('object').apply(lambda x:x.astype('category'))\n",
    "# for col in adult.columns:\n",
    "#     if adult[col].dtype !='int64':\n",
    "#         adult[col] = adult[col].apply(lambda val: val.replace(\" \", \"\"))"
   ]
  },
  {
   "cell_type": "code",
   "execution_count": 4,
   "metadata": {},
   "outputs": [
    {
     "name": "stdout",
     "output_type": "stream",
     "text": [
      "<class 'pandas.core.frame.DataFrame'>\n",
      "RangeIndex: 48842 entries, 0 to 48841\n",
      "Data columns (total 15 columns):\n",
      "age               48842 non-null int64\n",
      "workclass         46043 non-null category\n",
      "fnlwgt            48842 non-null int64\n",
      "education         48842 non-null category\n",
      "education_num     48842 non-null int64\n",
      "marital_status    48842 non-null category\n",
      "occupation        46033 non-null category\n",
      "relationship      48842 non-null category\n",
      "race              48842 non-null category\n",
      "sex               48842 non-null category\n",
      "capital_gain      48842 non-null int64\n",
      "capital_loss      48842 non-null int64\n",
      "hours_per_week    48842 non-null int64\n",
      "native_country    47985 non-null category\n",
      "income            48842 non-null int64\n",
      "dtypes: category(8), int64(7)\n",
      "memory usage: 3.0 MB\n"
     ]
    }
   ],
   "source": [
    "adult.info()"
   ]
  },
  {
   "cell_type": "code",
   "execution_count": 5,
   "metadata": {},
   "outputs": [
    {
     "data": {
      "text/plain": [
       "0    37155\n",
       "1    11687\n",
       "Name: income, dtype: int64"
      ]
     },
     "execution_count": 5,
     "metadata": {},
     "output_type": "execute_result"
    }
   ],
   "source": [
    "adult.income.value_counts()"
   ]
  },
  {
   "cell_type": "code",
   "execution_count": 6,
   "metadata": {},
   "outputs": [
    {
     "data": {
      "text/plain": [
       "<matplotlib.axes._subplots.AxesSubplot at 0x25553dca438>"
      ]
     },
     "execution_count": 6,
     "metadata": {},
     "output_type": "execute_result"
    },
    {
     "data": {
      "image/png": "[encoded data removed]",
      "text/plain": [
       "<Figure size 720x720 with 1 Axes>"
      ]
     },
     "metadata": {
      "needs_background": "light"
     },
     "output_type": "display_data"
    }
   ],
   "source": [
    "fig=plt.figure(figsize=(10,10))\n",
    "sns.countplot(y='occupation',hue='income', data=adult)"
   ]
  },
  {
   "cell_type": "markdown",
   "metadata": {},
   "source": [
    "### MISSING VALUES"
   ]
  },
  {
   "cell_type": "code",
   "execution_count": 7,
   "metadata": {},
   "outputs": [
    {
     "name": "stdout",
     "output_type": "stream",
     "text": [
      "workclass: missing 2799\n",
      "occupation: missing 2809\n",
      "native_country: missing 857\n"
     ]
    }
   ],
   "source": [
    "def missing_values(data):\n",
    "    for i,j in list(zip(data.columns, (data.isnull().sum()))):\n",
    "        if j>1:\n",
    "            print (f\"{i}: missing {j}\")\n",
    "        \n",
    "missing_values(adult)        \n"
   ]
  },
  {
   "cell_type": "code",
   "execution_count": 8,
   "metadata": {},
   "outputs": [
    {
     "name": "stdout",
     "output_type": "stream",
     "text": [
      "******************workclass******************\n",
      "Private             33906\n",
      "Self-emp-not-inc     3862\n",
      "Local-gov            3136\n",
      "NaN                  2799\n",
      "State-gov            1981\n",
      "Self-emp-inc         1695\n",
      "Federal-gov          1432\n",
      "Without-pay            21\n",
      "Never-worked           10\n",
      "Name: workclass, dtype: int64\n",
      "******************occupation******************\n",
      "Prof-specialty       6172\n",
      "Craft-repair         6112\n",
      "Exec-managerial      6086\n",
      "Adm-clerical         5611\n",
      "Sales                5504\n",
      "Other-service        4923\n",
      "Machine-op-inspct    3022\n",
      "NaN                  2809\n",
      "Transport-moving     2355\n",
      "Handlers-cleaners    2072\n",
      "Farming-fishing      1490\n",
      "Tech-support         1446\n",
      "Protective-serv       983\n",
      "Priv-house-serv       242\n",
      "Armed-Forces           15\n",
      "Name: occupation, dtype: int64\n",
      "******************native_country******************\n",
      "United-States                 43832\n",
      "Mexico                          951\n",
      "NaN                             857\n",
      "Philippines                     295\n",
      "Germany                         206\n",
      "Puerto-Rico                     184\n",
      "Canada                          182\n",
      "El-Salvador                     155\n",
      "India                           151\n",
      "Cuba                            138\n",
      "England                         127\n",
      "China                           122\n",
      "South                           115\n",
      "Jamaica                         106\n",
      "Italy                           105\n",
      "Dominican-Republic              103\n",
      "Japan                            92\n",
      "Guatemala                        88\n",
      "Poland                           87\n",
      "Vietnam                          86\n",
      "Columbia                         85\n",
      "Haiti                            75\n",
      "Portugal                         67\n",
      "Taiwan                           65\n",
      "Iran                             59\n",
      "Greece                           49\n",
      "Nicaragua                        49\n",
      "Peru                             46\n",
      "Ecuador                          45\n",
      "France                           38\n",
      "Ireland                          37\n",
      "Hong                             30\n",
      "Thailand                         30\n",
      "Cambodia                         28\n",
      "Trinadad&Tobago                  27\n",
      "Yugoslavia                       23\n",
      "Laos                             23\n",
      "Outlying-US(Guam-USVI-etc)       23\n",
      "Scotland                         21\n",
      "Honduras                         20\n",
      "Hungary                          19\n",
      "Holand-Netherlands                1\n",
      "Name: native_country, dtype: int64\n"
     ]
    }
   ],
   "source": [
    "col_name = ['workclass','occupation','native_country']\n",
    "for col in col_name:\n",
    "    print (f\"******************{col}******************\")\n",
    "    print (adult[col].value_counts(dropna=False))"
   ]
  },
  {
   "cell_type": "markdown",
   "metadata": {},
   "source": [
    "### PREDICTING MISSING VALUES WITH KNN"
   ]
  },
  {
   "cell_type": "code",
   "execution_count": 9,
   "metadata": {},
   "outputs": [],
   "source": [
    "#prediciting \"workclass\" missing values with KNN\n",
    "\n",
    "miss_test_X = adult[adult['workclass'].isna()].copy()\n",
    "miss_test_Y = miss_test_X.workclass\n",
    "miss_test_X.drop(columns = ['workclass'], inplace = True)\n",
    "\n",
    "miss_train_X  = adult[adult['workclass'].notna()].copy()\n",
    "miss_train_Y = miss_train_X.workclass\n",
    "miss_train_X.drop(columns = ['workclass'], inplace = True)\n",
    "\n",
    "def HotEncoding (data,data_cat):\n",
    "    df_1 = data.drop(columns = data_cat.select_dtypes('category').columns, axis=1)\n",
    "    df_2 = pd.get_dummies(data[data_cat.select_dtypes('category').columns])\n",
    "    return pd.concat([df_1, df_2], axis=1)\n",
    "        \n",
    "miss_test_data = HotEncoding(miss_test_X,miss_test_X)\n",
    "miss_train_data = HotEncoding(miss_train_X,miss_train_X)\n",
    "\n",
    "from sklearn.neighbors import KNeighborsClassifier\n",
    "\n",
    "knn_miss = KNeighborsClassifier(n_neighbors=5)\n",
    "knn_miss.fit(miss_train_data, miss_train_Y)\n",
    "knn_pred = knn_miss.predict(miss_test_data)\n",
    "\n",
    "adult.loc[adult['workclass'].isna(),['workclass']] = knn_pred"
   ]
  },
  {
   "cell_type": "code",
   "execution_count": 10,
   "metadata": {},
   "outputs": [],
   "source": [
    "#prediciting \"occupation\" missing values with KNN\n",
    "\n",
    "miss_test_X = adult[adult['occupation'].isna()].copy()\n",
    "miss_test_Y = miss_test_X.occupation\n",
    "miss_test_X.drop(columns = ['occupation'], inplace = True)\n",
    "\n",
    "miss_train_X  = adult[adult['occupation'].notna()].copy()\n",
    "miss_train_Y = miss_train_X.occupation\n",
    "miss_train_X.drop(columns = ['occupation'], inplace = True)\n",
    "\n",
    "def HotEncoding (data,data_cat):\n",
    "    df_1 = data.drop(columns = data_cat.select_dtypes('category').columns, axis=1)\n",
    "    df_2 = pd.get_dummies(data[data_cat.select_dtypes('category').columns])\n",
    "    return pd.concat([df_1, df_2], axis=1)\n",
    "        \n",
    "miss_test_data = HotEncoding(miss_test_X,miss_test_X)\n",
    "miss_train_data = HotEncoding(miss_train_X,miss_train_X)\n",
    "\n",
    "from sklearn.neighbors import KNeighborsClassifier\n",
    "\n",
    "knn_miss = KNeighborsClassifier(n_neighbors=5)\n",
    "knn_miss.fit(miss_train_data, miss_train_Y)\n",
    "knn_pred = knn_miss.predict(miss_test_data)\n",
    "\n",
    "adult.loc[adult['occupation'].isna(),['occupation']] = knn_pred"
   ]
  },
  {
   "cell_type": "code",
   "execution_count": 11,
   "metadata": {},
   "outputs": [],
   "source": [
    "#prediciting \"native_country\" missing values with KNN\n",
    "\n",
    "miss_test_X = adult[adult['native_country'].isna()].copy()\n",
    "miss_test_Y = miss_test_X.native_country\n",
    "miss_test_X.drop(columns = ['native_country'], inplace = True)\n",
    "\n",
    "miss_train_X  = adult[adult['native_country'].notna()].copy()\n",
    "miss_train_Y = miss_train_X.native_country\n",
    "miss_train_X.drop(columns = ['native_country'], inplace = True)\n",
    "\n",
    "def HotEncoding (data,data_cat):\n",
    "    df_1 = data.drop(columns = data_cat.select_dtypes('category').columns, axis=1)\n",
    "    df_2 = pd.get_dummies(data[data_cat.select_dtypes('category').columns])\n",
    "    return pd.concat([df_1, df_2], axis=1)\n",
    "        \n",
    "miss_test_data = HotEncoding(miss_test_X,miss_test_X)\n",
    "miss_train_data = HotEncoding(miss_train_X,miss_train_X)\n",
    "\n",
    "from sklearn.neighbors import KNeighborsClassifier\n",
    "\n",
    "knn_miss = KNeighborsClassifier(n_neighbors=5)\n",
    "knn_miss.fit(miss_train_data, miss_train_Y)\n",
    "knn_pred = knn_miss.predict(miss_test_data)\n",
    "\n",
    "adult.loc[adult['native_country'].isna(),['native_country']] = knn_pred      \n"
   ]
  },
  {
   "cell_type": "code",
   "execution_count": 12,
   "metadata": {},
   "outputs": [
    {
     "data": {
      "text/plain": [
       "Private             36558\n",
       "Self-emp-not-inc     3900\n",
       "Local-gov            3197\n",
       "State-gov            1987\n",
       "Self-emp-inc         1707\n",
       "Federal-gov          1462\n",
       "Without-pay            21\n",
       "Never-worked           10\n",
       "Name: workclass, dtype: int64"
      ]
     },
     "execution_count": 12,
     "metadata": {},
     "output_type": "execute_result"
    }
   ],
   "source": [
    "adult['workclass'].value_counts()"
   ]
  },
  {
   "cell_type": "code",
   "execution_count": 13,
   "metadata": {},
   "outputs": [
    {
     "data": {
      "text/plain": [
       "<matplotlib.axes._subplots.AxesSubplot at 0x255556bc748>"
      ]
     },
     "execution_count": 13,
     "metadata": {},
     "output_type": "execute_result"
    },
    {
     "data": {
      "image/png": "[encoded data removed]",
      "text/plain": [
       "<Figure size 432x288 with 1 Axes>"
      ]
     },
     "metadata": {
      "needs_background": "light"
     },
     "output_type": "display_data"
    }
   ],
   "source": [
    "sns.countplot(x='income',data=adult)"
   ]
  },
  {
   "cell_type": "markdown",
   "metadata": {},
   "source": [
    "### HEATMAP FOR SHOWING CORRELATIONS"
   ]
  },
  {
   "cell_type": "code",
   "execution_count": 14,
   "metadata": {},
   "outputs": [
    {
     "data": {
      "text/plain": [
       "<matplotlib.axes._subplots.AxesSubplot at 0x2555b5fe160>"
      ]
     },
     "execution_count": 14,
     "metadata": {},
     "output_type": "execute_result"
    },
    {
     "data": {
      "image/png": "[encoded data removed]",
      "text/plain": [
       "<Figure size 720x360 with 2 Axes>"
      ]
     },
     "metadata": {
      "needs_background": "light"
     },
     "output_type": "display_data"
    }
   ],
   "source": [
    "corr = adult.corr().round(3)\n",
    "plt.figure(figsize=(10,5))\n",
    "mask = np.zeros_like(corr)\n",
    "mask[np.triu_indices_from(mask)]=True\n",
    "sns.heatmap(corr, mask=mask, vmin = -1, vmax = 1, annot=True, square=True)\n",
    "## Almost No correlations b/w features"
   ]
  },
  {
   "cell_type": "markdown",
   "metadata": {},
   "source": [
    "### Model preparation"
   ]
  },
  {
   "cell_type": "code",
   "execution_count": 15,
   "metadata": {},
   "outputs": [
    {
     "name": "stdout",
     "output_type": "stream",
     "text": [
      "before (48842, 15)\n",
      "after (48842, 13)\n"
     ]
    }
   ],
   "source": [
    "### Model preparation\n",
    "print (f\"before {adult.shape}\")\n",
    "col_del =['relationship','education_num']\n",
    "adult.drop(columns = col_del, inplace=True, axis=1)\n",
    "\n",
    "print (f\"after {adult.shape}\")\n"
   ]
  },
  {
   "cell_type": "markdown",
   "metadata": {},
   "source": [
    "##### MARITAL STATUS"
   ]
  },
  {
   "cell_type": "code",
   "execution_count": 16,
   "metadata": {},
   "outputs": [
    {
     "data": {
      "text/plain": [
       "[Never-married, Married-civ-spouse, Divorced, Married-spouse-absent, Separated, Married-AF-spouse, Widowed]\n",
       "Categories (7, object): [Never-married, Married-civ-spouse, Divorced, Married-spouse-absent, Separated, Married-AF-spouse, Widowed]"
      ]
     },
     "execution_count": 16,
     "metadata": {},
     "output_type": "execute_result"
    }
   ],
   "source": [
    "adult.marital_status.unique()"
   ]
  },
  {
   "cell_type": "code",
   "execution_count": 17,
   "metadata": {},
   "outputs": [
    {
     "data": {
      "text/plain": [
       "Married          23044\n",
       "Never-married    16117\n",
       "Separated         8163\n",
       "Widowed           1518\n",
       "Name: marital_status, dtype: int64"
      ]
     },
     "execution_count": 17,
     "metadata": {},
     "output_type": "execute_result"
    }
   ],
   "source": [
    "married = ['Married-civ-spouse', 'Married-spouse-absent','Married-AF-spouse']\n",
    "separted = ['Separated','Divorced']\n",
    "\n",
    "adult['marital_status'].replace(to_replace=married, value='Married', inplace=True)\n",
    "adult['marital_status'].replace(to_replace=separted, value='Separated', inplace=True)\n",
    "\n",
    "adult.marital_status.value_counts()"
   ]
  },
  {
   "cell_type": "markdown",
   "metadata": {},
   "source": [
    "##### EDUCATION"
   ]
  },
  {
   "cell_type": "code",
   "execution_count": 18,
   "metadata": {},
   "outputs": [
    {
     "data": {
      "text/plain": [
       "array(['Bachelors', 'HS-grad', 'Masters', 'Some-college', 'Assoc-acdm',\n",
       "       'Assoc-voc', 'elementary_school', 'Doctorate', 'Prof-school',\n",
       "       'Preschool'], dtype=object)"
      ]
     },
     "execution_count": 18,
     "metadata": {},
     "output_type": "execute_result"
    }
   ],
   "source": [
    "hs_grad = ['HS-grad','11th','10th','9th','12th']\n",
    "elementary = ['1st-4th','5th-6th','7th-8th']\n",
    "\n",
    "adult['education'].replace(to_replace = hs_grad,value = 'HS-grad',inplace = True)\n",
    "adult['education'].replace(to_replace = elementary,value = 'elementary_school',inplace = True)\n",
    "\n",
    "adult.education.unique()"
   ]
  },
  {
   "cell_type": "markdown",
   "metadata": {},
   "source": [
    "##### WORKCLASS"
   ]
  },
  {
   "cell_type": "code",
   "execution_count": 19,
   "metadata": {},
   "outputs": [
    {
     "data": {
      "text/plain": [
       "array(['Govt_employees', 'Self_employed', 'Private', 'Without-pay',\n",
       "       'Never-worked'], dtype=object)"
      ]
     },
     "execution_count": 19,
     "metadata": {},
     "output_type": "execute_result"
    }
   ],
   "source": [
    "self_employed = ['Self-emp-not-inc','Self-emp-inc']\n",
    "govt_employees = ['Local-gov','State-gov','Federal-gov']\n",
    "\n",
    "adult['workclass'].replace(to_replace = self_employed ,value = 'Self_employed',inplace = True)\n",
    "adult['workclass'].replace(to_replace = govt_employees,value = 'Govt_employees',inplace = True)\n",
    "\n",
    "adult.workclass.unique()"
   ]
  },
  {
   "cell_type": "markdown",
   "metadata": {},
   "source": [
    "### PREPROCESSING AND MODEL SELECTION"
   ]
  },
  {
   "cell_type": "code",
   "execution_count": 20,
   "metadata": {},
   "outputs": [],
   "source": [
    "from sklearn.preprocessing import StandardScaler, MinMaxScaler\n",
    "from sklearn.model_selection import train_test_split\n",
    "\n",
    "#apply scaler to num columns\n",
    "\n",
    "num_cols = adult.select_dtypes('int64')\n",
    "cat_cols = adult.select_dtypes(exclude='int64')\n",
    "#cat_cols = ['workclass', 'education', 'marital_status', 'occupation', 'race', 'sex', 'native_country']\n",
    "train_X = adult.drop(columns = ['income'])"
   ]
  },
  {
   "cell_type": "code",
   "execution_count": 21,
   "metadata": {},
   "outputs": [
    {
     "data": {
      "text/plain": [
       "Index(['age', 'workclass', 'fnlwgt', 'education', 'marital_status',\n",
       "       'occupation', 'race', 'sex', 'capital_gain', 'capital_loss',\n",
       "       'hours_per_week', 'native_country'],\n",
       "      dtype='object')"
      ]
     },
     "execution_count": 21,
     "metadata": {},
     "output_type": "execute_result"
    }
   ],
   "source": [
    "train_X.columns"
   ]
  },
  {
   "cell_type": "code",
   "execution_count": 22,
   "metadata": {},
   "outputs": [
    {
     "data": {
      "text/html": [
       "<div>\n",
       "<style scoped>\n",
       "    .dataframe tbody tr th:only-of-type {\n",
       "        vertical-align: middle;\n",
       "    }\n",
       "\n",
       "    .dataframe tbody tr th {\n",
       "        vertical-align: top;\n",
       "    }\n",
       "\n",
       "    .dataframe thead th {\n",
       "        text-align: right;\n",
       "    }\n",
       "</style>\n",
       "<table border=\"1\" class=\"dataframe\">\n",
       "  <thead>\n",
       "    <tr style=\"text-align: right;\">\n",
       "      <th></th>\n",
       "      <th>workclass</th>\n",
       "      <th>education</th>\n",
       "      <th>marital_status</th>\n",
       "      <th>occupation</th>\n",
       "      <th>race</th>\n",
       "      <th>sex</th>\n",
       "      <th>native_country</th>\n",
       "    </tr>\n",
       "  </thead>\n",
       "  <tbody>\n",
       "    <tr>\n",
       "      <th>0</th>\n",
       "      <td>Govt_employees</td>\n",
       "      <td>Bachelors</td>\n",
       "      <td>Never-married</td>\n",
       "      <td>Adm-clerical</td>\n",
       "      <td>White</td>\n",
       "      <td>Male</td>\n",
       "      <td>United-States</td>\n",
       "    </tr>\n",
       "    <tr>\n",
       "      <th>1</th>\n",
       "      <td>Self_employed</td>\n",
       "      <td>Bachelors</td>\n",
       "      <td>Married</td>\n",
       "      <td>Exec-managerial</td>\n",
       "      <td>White</td>\n",
       "      <td>Male</td>\n",
       "      <td>United-States</td>\n",
       "    </tr>\n",
       "    <tr>\n",
       "      <th>2</th>\n",
       "      <td>Private</td>\n",
       "      <td>HS-grad</td>\n",
       "      <td>Separated</td>\n",
       "      <td>Handlers-cleaners</td>\n",
       "      <td>White</td>\n",
       "      <td>Male</td>\n",
       "      <td>United-States</td>\n",
       "    </tr>\n",
       "    <tr>\n",
       "      <th>3</th>\n",
       "      <td>Private</td>\n",
       "      <td>HS-grad</td>\n",
       "      <td>Married</td>\n",
       "      <td>Handlers-cleaners</td>\n",
       "      <td>Black</td>\n",
       "      <td>Male</td>\n",
       "      <td>United-States</td>\n",
       "    </tr>\n",
       "    <tr>\n",
       "      <th>4</th>\n",
       "      <td>Private</td>\n",
       "      <td>Bachelors</td>\n",
       "      <td>Married</td>\n",
       "      <td>Prof-specialty</td>\n",
       "      <td>Black</td>\n",
       "      <td>Female</td>\n",
       "      <td>Cuba</td>\n",
       "    </tr>\n",
       "  </tbody>\n",
       "</table>\n",
       "</div>"
      ],
      "text/plain": [
       "        workclass  education marital_status         occupation   race     sex  \\\n",
       "0  Govt_employees  Bachelors  Never-married       Adm-clerical  White    Male   \n",
       "1   Self_employed  Bachelors        Married    Exec-managerial  White    Male   \n",
       "2         Private    HS-grad      Separated  Handlers-cleaners  White    Male   \n",
       "3         Private    HS-grad        Married  Handlers-cleaners  Black    Male   \n",
       "4         Private  Bachelors        Married     Prof-specialty  Black  Female   \n",
       "\n",
       "  native_country  \n",
       "0  United-States  \n",
       "1  United-States  \n",
       "2  United-States  \n",
       "3  United-States  \n",
       "4           Cuba  "
      ]
     },
     "execution_count": 22,
     "metadata": {},
     "output_type": "execute_result"
    }
   ],
   "source": [
    "cat_cols.head()"
   ]
  },
  {
   "cell_type": "code",
   "execution_count": 23,
   "metadata": {},
   "outputs": [],
   "source": [
    "train_X = pd.get_dummies(train_X)\n",
    "X =  pd.concat([train_X, num_cols],axis=1, join='inner')\n",
    "X = X.drop(columns = 'income')\n",
    "y =  adult['income']"
   ]
  },
  {
   "cell_type": "code",
   "execution_count": 25,
   "metadata": {},
   "outputs": [
    {
     "name": "stderr",
     "output_type": "stream",
     "text": [
      "C:\\Users\\arman\\Anaconda3\\lib\\site-packages\\sklearn\\preprocessing\\data.py:645: DataConversionWarning: Data with input dtype uint8, int64 were all converted to float64 by StandardScaler.\n",
      "  return self.partial_fit(X, y)\n",
      "C:\\Users\\arman\\Anaconda3\\lib\\site-packages\\sklearn\\base.py:464: DataConversionWarning: Data with input dtype uint8, int64 were all converted to float64 by StandardScaler.\n",
      "  return self.fit(X, **fit_params).transform(X)\n",
      "C:\\Users\\arman\\Anaconda3\\lib\\site-packages\\ipykernel_launcher.py:5: DataConversionWarning: Data with input dtype uint8, int64 were all converted to float64 by StandardScaler.\n",
      "  \"\"\"\n"
     ]
    },
    {
     "data": {
      "text/html": [
       "<div>\n",
       "<style scoped>\n",
       "    .dataframe tbody tr th:only-of-type {\n",
       "        vertical-align: middle;\n",
       "    }\n",
       "\n",
       "    .dataframe tbody tr th {\n",
       "        vertical-align: top;\n",
       "    }\n",
       "\n",
       "    .dataframe thead th {\n",
       "        text-align: right;\n",
       "    }\n",
       "</style>\n",
       "<table border=\"1\" class=\"dataframe\">\n",
       "  <thead>\n",
       "    <tr style=\"text-align: right;\">\n",
       "      <th></th>\n",
       "      <th>income</th>\n",
       "    </tr>\n",
       "  </thead>\n",
       "  <tbody>\n",
       "    <tr>\n",
       "      <th>46447</th>\n",
       "      <td>0</td>\n",
       "    </tr>\n",
       "    <tr>\n",
       "      <th>9116</th>\n",
       "      <td>0</td>\n",
       "    </tr>\n",
       "    <tr>\n",
       "      <th>16797</th>\n",
       "      <td>1</td>\n",
       "    </tr>\n",
       "    <tr>\n",
       "      <th>45574</th>\n",
       "      <td>1</td>\n",
       "    </tr>\n",
       "    <tr>\n",
       "      <th>39901</th>\n",
       "      <td>0</td>\n",
       "    </tr>\n",
       "  </tbody>\n",
       "</table>\n",
       "</div>"
      ],
      "text/plain": [
       "       income\n",
       "46447       0\n",
       "9116        0\n",
       "16797       1\n",
       "45574       1\n",
       "39901       0"
      ]
     },
     "execution_count": 25,
     "metadata": {},
     "output_type": "execute_result"
    }
   ],
   "source": [
    "X_train, X_test, y_train, y_test = train_test_split(X, y,test_size = 0.25)\n",
    "\n",
    "scaler = StandardScaler()\n",
    "X_train = scaler.fit_transform(X_train)\n",
    "X_test = scaler.transform(X_test)\n",
    "\n",
    "\n",
    "# y_train = y_train.replace(['<=50K', '>50K'], [0, 1])\n",
    "# y_test = y_test.replace(['<=50K', '>50K'], [0, 1])\n",
    "\n",
    "pd.DataFrame(y_train).head()\n",
    "\n"
   ]
  },
  {
   "cell_type": "markdown",
   "metadata": {},
   "source": [
    "### MACHINE LEARNING PART"
   ]
  },
  {
   "cell_type": "code",
   "execution_count": 51,
   "metadata": {},
   "outputs": [],
   "source": [
    "from sklearn.neighbors import KNeighborsClassifier\n",
    "from sklearn.model_selection import cross_val_score,GridSearchCV\n",
    "from sklearn.linear_model import LogisticRegression\n",
    "from sklearn.tree import DecisionTreeClassifier\n",
    "from sklearn.svm import SVC\n",
    "from sklearn.ensemble import RandomForestClassifier,AdaBoostClassifier,BaggingClassifier,ExtraTreesClassifier\n",
    "from sklearn.model_selection import KFold\n",
    "from sklearn.model_selection import cross_val_score\n",
    "#from sklearn.naive_bayes import GaussianNB\n",
    "from sklearn.metrics import accuracy_score,confusion_matrix,classification_report,roc_curve, auc\n",
    "\n",
    "import warnings\n",
    "import time\n",
    "import datetime\n",
    "warnings.filterwarnings('ignore')\n",
    "\n"
   ]
  },
  {
   "cell_type": "code",
   "execution_count": 52,
   "metadata": {},
   "outputs": [
    {
     "name": "stdout",
     "output_type": "stream",
     "text": [
      "***************************Logistic Regressions***************************\n",
      "accuracy score is 0.8510359511915486\n",
      "Confusion Matrix\n",
      "[[8737  657]\n",
      " [1162 1655]]\n",
      "Accuracy is: 85.1036%\n",
      "F1 score is: 64.5350%\n",
      "Precision is: 71.5830%\n",
      "Recall is: 58.7504%\n",
      "Elapsed time: 0:00:01.636617 \n",
      "***************************Decision Tree***************************\n",
      "accuracy score is 0.8154123331422488\n",
      "Confusion Matrix\n",
      "[[8251 1143]\n",
      " [1111 1706]]\n",
      "Accuracy is: 81.5412%\n",
      "F1 score is: 60.2188%\n",
      "Precision is: 59.8807%\n",
      "Recall is: 60.5609%\n",
      "Elapsed time: 0:00:00.555547 \n",
      "***************************Random Forest***************************\n",
      "accuracy score is 0.8484153631971173\n",
      "Confusion Matrix\n",
      "[[8798  596]\n",
      " [1255 1562]]\n",
      "Accuracy is: 84.8415%\n",
      "F1 score is: 62.7940%\n",
      "Precision is: 72.3818%\n",
      "Recall is: 55.4491%\n",
      "Elapsed time: 0:00:00.585435 \n",
      "***************************SVC***************************\n",
      "accuracy score is 0.853165178937024\n",
      "Confusion Matrix\n",
      "[[8831  563]\n",
      " [1230 1587]]\n",
      "Accuracy is: 85.3165%\n",
      "F1 score is: 63.9018%\n",
      "Precision is: 73.8140%\n",
      "Recall is: 56.3365%\n",
      "Elapsed time: 0:01:55.318448 \n",
      "***************************KNN***************************\n",
      "accuracy score is 0.8231922037507166\n",
      "Confusion Matrix\n",
      "[[8505  889]\n",
      " [1270 1547]]\n",
      "Accuracy is: 82.3192%\n",
      "F1 score is: 58.8997%\n",
      "Precision is: 63.5057%\n",
      "Recall is: 54.9166%\n",
      "Elapsed time: 0:00:59.942618 \n"
     ]
    }
   ],
   "source": [
    "clf_knn = KNeighborsClassifier()\n",
    "clf_log = LogisticRegression()\n",
    "clf_tree = DecisionTreeClassifier()\n",
    "clf_SVC = SVC ()\n",
    "clf_forest = RandomForestClassifier()\n",
    "\n",
    "# models = {'Logistic Regressions': clf_log}\n",
    "\n",
    "models = {'Logistic Regressions': clf_log, 'Decision Tree' : clf_tree,\n",
    "         'Random Forest' : clf_forest, 'SVC' : clf_SVC, 'KNN' : clf_knn\n",
    "         }\n",
    "\n",
    "def training (name,algo,X_train, X_test, y_train, y_test):\n",
    "    algo.fit(X_train,y_train)\n",
    "    y_pred = algo.predict(X_test)\n",
    "    print (f\"***************************{name}***************************\")\n",
    "    print (f\"accuracy score is {accuracy_score(y_test,y_pred)}\")\n",
    "    return y_test, y_pred\n",
    "\n",
    "def result (y_test, y_pred):\n",
    "    print (\"Confusion Matrix\")\n",
    "    cm=confusion_matrix(y_test, y_pred)\n",
    "    print (cm) \n",
    "    TP=cm[1,1]\n",
    "    TN=cm[0,0]\n",
    "    FP=cm[0,1]\n",
    "    FN=cm[1,0]\n",
    "    accuracy = 100*((TN+TP)/ (TP+TN+FP+FN))\n",
    "    f1_score =  100*((2*TP) / (2*TP + FP + FN))\n",
    "    precision = 100*((TP) / (TP+FP))\n",
    "    recall = 100*((TP) / (TP+FN))\n",
    "    print (f\"Accuracy is: {accuracy:.4f}%\\nF1 score is: {f1_score:.4f}%\\nPrecision is: {precision:.4f}%\\nRecall is: {recall:.4f}%\")\n",
    "    return accuracy\n",
    "\n",
    "def main (models):\n",
    "    acc_score = {}\n",
    "#     names = []\n",
    "    for name,algo in models.items(): \n",
    "        start_time = time.time()\n",
    "        y_test_train,y_pred = training (name,algo,X_train, X_test, y_train, y_test)\n",
    "#         acc_score.update = name,result(y_test_train,y_pred)\n",
    "        acc_score[name]=(result(y_test_train,y_pred))\n",
    "#         names.append(name)\n",
    "        print (f\"Elapsed time: {datetime.timedelta(seconds=time.time()-start_time)} \")\n",
    "    return acc_score\n",
    "        \n",
    "\n",
    "accuracy_scores = main (models)\n",
    "    "
   ]
  },
  {
   "cell_type": "code",
   "execution_count": 53,
   "metadata": {},
   "outputs": [
    {
     "data": {
      "text/plain": [
       "{'Logistic Regressions': 85.10359511915486,\n",
       " 'Decision Tree': 81.54123331422488,\n",
       " 'Random Forest': 84.84153631971174,\n",
       " 'SVC': 85.31651789370241,\n",
       " 'KNN': 82.31922037507165}"
      ]
     },
     "execution_count": 53,
     "metadata": {},
     "output_type": "execute_result"
    }
   ],
   "source": [
    "accuracy_scores"
   ]
  },
  {
   "cell_type": "code",
   "execution_count": 54,
   "metadata": {},
   "outputs": [
    {
     "data": {
      "text/html": [
       "<div>\n",
       "<style scoped>\n",
       "    .dataframe tbody tr th:only-of-type {\n",
       "        vertical-align: middle;\n",
       "    }\n",
       "\n",
       "    .dataframe tbody tr th {\n",
       "        vertical-align: top;\n",
       "    }\n",
       "\n",
       "    .dataframe thead th {\n",
       "        text-align: right;\n",
       "    }\n",
       "</style>\n",
       "<table border=\"1\" class=\"dataframe\">\n",
       "  <thead>\n",
       "    <tr style=\"text-align: right;\">\n",
       "      <th></th>\n",
       "      <th>Accuracy Score %</th>\n",
       "    </tr>\n",
       "  </thead>\n",
       "  <tbody>\n",
       "    <tr>\n",
       "      <th>SVC</th>\n",
       "      <td>85.316518</td>\n",
       "    </tr>\n",
       "    <tr>\n",
       "      <th>Logistic Regressions</th>\n",
       "      <td>85.103595</td>\n",
       "    </tr>\n",
       "    <tr>\n",
       "      <th>Random Forest</th>\n",
       "      <td>84.841536</td>\n",
       "    </tr>\n",
       "    <tr>\n",
       "      <th>KNN</th>\n",
       "      <td>82.319220</td>\n",
       "    </tr>\n",
       "    <tr>\n",
       "      <th>Decision Tree</th>\n",
       "      <td>81.541233</td>\n",
       "    </tr>\n",
       "  </tbody>\n",
       "</table>\n",
       "</div>"
      ],
      "text/plain": [
       "                      Accuracy Score %\n",
       "SVC                          85.316518\n",
       "Logistic Regressions         85.103595\n",
       "Random Forest                84.841536\n",
       "KNN                          82.319220\n",
       "Decision Tree                81.541233"
      ]
     },
     "execution_count": 54,
     "metadata": {},
     "output_type": "execute_result"
    }
   ],
   "source": [
    "pd.DataFrame.from_dict(accuracy_scores, orient='index', columns=[\"Accuracy Score %\"]).sort_values(by=[\"Accuracy Score %\"], ascending=False)"
   ]
  },
  {
   "cell_type": "markdown",
   "metadata": {},
   "source": [
    "### 10 FOLD CROSS VALIDATION"
   ]
  },
  {
   "cell_type": "code",
   "execution_count": 56,
   "metadata": {},
   "outputs": [
    {
     "name": "stdout",
     "output_type": "stream",
     "text": [
      "Logistic Regressions Elapsed time: 0:00:13.989861 \n",
      "Decision Tree Elapsed time: 0:00:02.388110 \n",
      "Random Forest Elapsed time: 0:00:02.050381 \n",
      "SVC Elapsed time: 0:04:15.385044 \n",
      "KNN Elapsed time: 0:01:40.034771 \n"
     ]
    },
    {
     "data": {
      "text/plain": [
       "{'Logistic Regressions': 84.742,\n",
       " 'Decision Tree': 81.349,\n",
       " 'Random Forest': 84.688,\n",
       " 'SVC': 84.63,\n",
       " 'KNN': 81.726}"
      ]
     },
     "execution_count": 56,
     "metadata": {},
     "output_type": "execute_result"
    }
   ],
   "source": [
    "\n",
    "cv_scores = {}\n",
    "scoring = 'accuracy'\n",
    "\n",
    "for name , algo in models.items():\n",
    "    start_time = time.time()\n",
    "#     Kfold = KFold(n_splits = 10)\n",
    "    cv = cross_val_score(algo, X_train, y_train, cv=10, scoring = scoring,n_jobs=-1)\n",
    "#     print (f\"Accuracy score is {np.mean(cv)}\")\n",
    "    cv_scores[name] = np.round(100*np.mean(cv),decimals=3)\n",
    "    print (f\"{name} Elapsed time: {datetime.timedelta(seconds=time.time()-start_time)} \")\n",
    "\n",
    "cv_scores"
   ]
  },
  {
   "cell_type": "code",
   "execution_count": 57,
   "metadata": {},
   "outputs": [
    {
     "data": {
      "text/html": [
       "<div>\n",
       "<style scoped>\n",
       "    .dataframe tbody tr th:only-of-type {\n",
       "        vertical-align: middle;\n",
       "    }\n",
       "\n",
       "    .dataframe tbody tr th {\n",
       "        vertical-align: top;\n",
       "    }\n",
       "\n",
       "    .dataframe thead th {\n",
       "        text-align: right;\n",
       "    }\n",
       "</style>\n",
       "<table border=\"1\" class=\"dataframe\">\n",
       "  <thead>\n",
       "    <tr style=\"text-align: right;\">\n",
       "      <th></th>\n",
       "      <th>Accuracy Score %</th>\n",
       "    </tr>\n",
       "  </thead>\n",
       "  <tbody>\n",
       "    <tr>\n",
       "      <th>Logistic Regressions</th>\n",
       "      <td>84.742</td>\n",
       "    </tr>\n",
       "    <tr>\n",
       "      <th>Random Forest</th>\n",
       "      <td>84.688</td>\n",
       "    </tr>\n",
       "    <tr>\n",
       "      <th>SVC</th>\n",
       "      <td>84.630</td>\n",
       "    </tr>\n",
       "    <tr>\n",
       "      <th>KNN</th>\n",
       "      <td>81.726</td>\n",
       "    </tr>\n",
       "    <tr>\n",
       "      <th>Decision Tree</th>\n",
       "      <td>81.349</td>\n",
       "    </tr>\n",
       "  </tbody>\n",
       "</table>\n",
       "</div>"
      ],
      "text/plain": [
       "                      Accuracy Score %\n",
       "Logistic Regressions            84.742\n",
       "Random Forest                   84.688\n",
       "SVC                             84.630\n",
       "KNN                             81.726\n",
       "Decision Tree                   81.349"
      ]
     },
     "execution_count": 57,
     "metadata": {},
     "output_type": "execute_result"
    }
   ],
   "source": [
    "Acc_CV = pd.DataFrame.from_dict(cv_scores, orient='index', columns=[\"Accuracy Score %\"]).sort_values(by=[\"Accuracy Score %\"], ascending=False)\n",
    "Acc_CV"
   ]
  },
  {
   "cell_type": "markdown",
   "metadata": {},
   "source": [
    "### HYPERTUNNING"
   ]
  },
  {
   "cell_type": "code",
   "execution_count": 58,
   "metadata": {},
   "outputs": [
    {
     "name": "stdout",
     "output_type": "stream",
     "text": [
      "************* DecisionTreeClassifier(class_weight=None, criterion='gini', max_depth=None,\n",
      "            max_features=None, max_leaf_nodes=None,\n",
      "            min_impurity_decrease=0.0, min_impurity_split=None,\n",
      "            min_samples_leaf=1, min_samples_split=2,\n",
      "            min_weight_fraction_leaf=0.0, presort=False, random_state=None,\n",
      "            splitter='best') *************\n",
      "Elapsed time: 0:03:03.329981 \n",
      "Best Score: 0.8561\n",
      "Best Parameters: {'criterion': 'entropy', 'max_depth': 20, 'min_samples_split': 0.01}\n"
     ]
    }
   ],
   "source": [
    "#hypertunning\n",
    "models = {'Logistic Regressions': clf_log, 'Decision Tree' : clf_tree, 'Random Forest' : clf_forest, 'SVC' : clf_SVC, 'KNN' : clf_knn}\n",
    "\n",
    "## Logistic Regressions\n",
    "param_log = {'C': np.logspace(-4, 4, 15), \n",
    "             'penalty': ['l1','l2']\n",
    "            }\n",
    "\n",
    "## Decision Tree\n",
    "\n",
    "max_depth = [int(x) for x in np.linspace(10, 110, num = 11)]\n",
    "max_depth.append(None)\n",
    "\n",
    "param_tree = {'criterion' : ['gini','entropy'],\n",
    "              'max_depth' : max_depth,\n",
    "#               'min_samples_leaf':np.arange(1,50,2),\n",
    "              'min_samples_split':np.linspace(0.01,1,num=10)\n",
    "              }\n",
    "\n",
    "## Random Forest\n",
    "param_forest = {'criterion' : ['gini','entropy'],\n",
    "                'max_depth': max_depth,\n",
    "#                 'max_features': ['auto', 'sqrt', 'log2'],\n",
    "                'n_estimators':np.arange(200,700,100)\n",
    "               }\n",
    "## SVC\n",
    "param_SVC = {'kernel': ('linear', 'rbf','poly'),\n",
    "             'C':[1.5, 10],\n",
    "             'gamma': [1e-7, 1e-4,1e-3]\n",
    "            }\n",
    "\n",
    "## KNN\n",
    "param_knn = {'n_neighbors':np.arange(2,50,2),\n",
    "            \"weights\": (\"uniform\", \"distance\")\n",
    "            }\n",
    "\n",
    "\n",
    "def hyper (model,parameter):\n",
    "    start_time = time.time()\n",
    "    grid = GridSearchCV(estimator=model, param_grid = parameter, cv=10, n_jobs=-1)\n",
    "    grid.fit(X_train,y_train),\n",
    "    print(f\"************* {model} *************\")\n",
    "    print (f\"Elapsed time: {datetime.timedelta(seconds=time.time()-start_time)} \")\n",
    "    print (f\"Best Score: {grid.best_score_:.4f}\\nBest Parameters: {grid.best_params_}\")\n",
    "    \n",
    "hyper (clf_tree, param_tree)"
   ]
  },
  {
   "cell_type": "code",
   "execution_count": null,
   "metadata": {},
   "outputs": [],
   "source": []
  }
 ],
 "metadata": {
  "kernelspec": {
   "display_name": "Python 3",
   "language": "python",
   "name": "python3"
  },
  "language_info": {
   "codemirror_mode": {
    "name": "ipython",
    "version": 3
   },
   "file_extension": ".py",
   "mimetype": "text/x-python",
   "name": "python",
   "nbconvert_exporter": "python",
   "pygments_lexer": "ipython3",
   "version": "3.7.3"
  }
 },
 "nbformat": 4,
 "nbformat_minor": 2
}
