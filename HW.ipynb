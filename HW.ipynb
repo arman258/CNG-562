{
  "nbformat": 4,
  "nbformat_minor": 0,
  "metadata": {
    "colab": {
      "name": "Test.ipynb",
      "version": "0.3.2",
      "provenance": [],
      "collapsed_sections": [],
      "include_colab_link": true
    },
    "kernelspec": {
      "name": "python3",
      "display_name": "Python 3"
    },
    "accelerator": "TPU"
  },
  "cells": [
    {
      "cell_type": "markdown",
      "metadata": {
        "id": "view-in-github",
        "colab_type": "text"
      },
      "source": [
        "<a href=\"https://colab.research.google.com/github/arman258/CNG-562/blob/master/HW.ipynb\" target=\"_parent\"><img src=\"https://colab.research.google.com/assets/colab-badge.svg\" alt=\"Open In Colab\"/></a>"
      ]
    },
    {
      "metadata": {
        "colab_type": "code",
        "id": "PXgoGZPrYpoY",
        "colab": {}
      },
      "cell_type": "code",
      "source": [
        "import numpy as np"
      ],
      "execution_count": 0,
      "outputs": []
    },
    {
      "metadata": {
        "id": "V0IDS3ZYCMOi",
        "colab_type": "code",
        "colab": {
          "base_uri": "https://localhost:8080/",
          "height": 34
        },
        "outputId": "b54ebbdd-f0d7-40f0-b4ac-add090794c47"
      },
      "cell_type": "code",
      "source": [
        "import numpy as np\n",
        "\n",
        "def loss(t, x):\n",
        "  return np.sum(np.square(t-x))\n",
        "\n",
        "def dloss(t, x):\n",
        "  return np.sum(2*(t-x))\n",
        "\n",
        "def optimize(t, x, h=0.1, maxsteps=10):\n",
        "  i=1\n",
        "  while i<maxsteps:\n",
        "    t_1 = t - h * dloss(t,x)\n",
        "    tol = np.abs(t_1 - t)\n",
        "    if tol > np.finfo(np.float).eps:\n",
        "      t = t_1\n",
        "      i +=1\n",
        "    else:\n",
        "      break\n",
        "  return  t  \n",
        "\n",
        "x=np.array([1,2,4])\n",
        "t=1\n",
        "\n",
        "print (optimize (t,x))      \n",
        "      "
      ],
      "execution_count": 48,
      "outputs": [
        {
          "output_type": "stream",
          "text": [
            "2.332983808\n"
          ],
          "name": "stdout"
        }
      ]
    },
    {
      "metadata": {
        "colab_type": "code",
        "id": "QbC8xWzEYpoQ",
        "outputId": "60372f22-f5cf-4199-f0ad-26a637080069",
        "colab": {
          "base_uri": "https://localhost:8080/",
          "height": 129
        }
      },
      "cell_type": "code",
      "source": [
        "  \n",
        "  \n",
        "\n",
        "x=np.array([1.,2.,2.])\n",
        "t_1=1\n",
        "h=0.1\n",
        "i=1\n",
        "\n",
        "#dis = np.linalg.norm(t_1 - x)\n",
        "\n",
        "\n",
        "#print (dis)\n",
        "\n",
        "#dev = np.diff(np.hstack(([0],ssd)))\n",
        "\n",
        "while i<10:\n",
        "  #dis = np.linalg.norm(t_1 - x)\n",
        "  ssd =  np.sum(np.square(t_1-x))\n",
        "  #print (ssd)\n",
        "  #dev = np.diff(np.hstack(([1],ssd)))\n",
        "  #print (dev)\n",
        "  t_n1 = t_1 - h * np.sum(2 * (t_1 - x))\n",
        "  tol = np.abs(t_n1 - t_1)\n",
        "  #print (tol)\n",
        "  if tol > np.finfo(np.float).eps:\n",
        "    t_1 = t_n1\n",
        "    i =+1\n",
        "    continue\n",
        "  else:\n",
        "    print (t_n1)\n",
        "    break\n",
        "      \n",
        "     \n"
      ],
      "execution_count": 45,
      "outputs": [
        {
          "output_type": "error",
          "ename": "IndentationError",
          "evalue": "ignored",
          "traceback": [
            "\u001b[0;36m  File \u001b[0;32m\"<ipython-input-45-ff22c826c1ef>\"\u001b[0;36m, line \u001b[0;32m18\u001b[0m\n\u001b[0;31m    ssd =  np.sum(np.square(t_1-x))\u001b[0m\n\u001b[0m      ^\u001b[0m\n\u001b[0;31mIndentationError\u001b[0m\u001b[0;31m:\u001b[0m expected an indented block\n"
          ]
        }
      ]
    },
    {
      "metadata": {
        "id": "14864QxVCRNZ",
        "colab_type": "code",
        "colab": {}
      },
      "cell_type": "code",
      "source": [
        ""
      ],
      "execution_count": 0,
      "outputs": []
    }
  ]
}