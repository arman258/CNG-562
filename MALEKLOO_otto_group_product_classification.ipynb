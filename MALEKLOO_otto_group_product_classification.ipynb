{
  "nbformat": 4,
  "nbformat_minor": 0,
  "metadata": {
    "colab": {
      "name": "MALEKLOO_otto_group_product_classification",
      "version": "0.3.2",
      "provenance": [],
      "include_colab_link": true
    },
    "language_info": {
      "codemirror_mode": {
        "name": "ipython",
        "version": 3
      },
      "file_extension": ".py",
      "mimetype": "text/x-python",
      "name": "python",
      "nbconvert_exporter": "python",
      "pygments_lexer": "ipython3",
      "version": "3.7.3"
    },
    "kernelspec": {
      "name": "python3",
      "display_name": "Python 3"
    },
    "accelerator": "GPU"
  },
  "cells": [
    {
      "cell_type": "markdown",
      "metadata": {
        "id": "view-in-github",
        "colab_type": "text"
      },
      "source": [
        "<a href=\"https://colab.research.google.com/github/arman258/CNG-562/blob/master/MALEKLOO_otto_group_product_classification.ipynb\" target=\"_parent\"><img src=\"https://colab.research.google.com/assets/colab-badge.svg\" alt=\"Open In Colab\"/></a>"
      ]
    },
    {
      "cell_type": "markdown",
      "metadata": {
        "id": "-uuprDMJzhA8",
        "colab_type": "text"
      },
      "source": [
        "\n",
        "### Ensemble learning (espically stacking) can be used to improve the accuarcy. However this was not used in this HW\n",
        "\n",
        "\n",
        "\n",
        "\n",
        "\n"
      ]
    },
    {
      "cell_type": "code",
      "metadata": {
        "id": "ffdeV0282eyF",
        "colab_type": "code",
        "colab": {}
      },
      "source": [
        ""
      ],
      "execution_count": 0,
      "outputs": []
    },
    {
      "cell_type": "code",
      "metadata": {
        "id": "NlAu_ufod87a",
        "colab_type": "code",
        "colab": {},
        "outputId": "481d6b41-9946-43bf-867a-c7c01dc6af85"
      },
      "source": [
        "%reset"
      ],
      "execution_count": 0,
      "outputs": [
        {
          "output_type": "stream",
          "text": [
            "Once deleted, variables cannot be recovered. Proceed (y/[n])?  y\n"
          ],
          "name": "stdin"
        }
      ]
    },
    {
      "cell_type": "markdown",
      "metadata": {
        "id": "NcXJT93Nzfgd",
        "colab_type": "text"
      },
      "source": [
        ""
      ]
    },
    {
      "cell_type": "code",
      "metadata": {
        "id": "iE4P8SW7d87h",
        "colab_type": "code",
        "colab": {
          "base_uri": "https://localhost:8080/",
          "height": 84
        },
        "outputId": "eb5ae5cc-a4ee-4427-b2e2-dd69f5018553"
      },
      "source": [
        "!pip install lightgbm\n",
        "!pip install -U -q kaggle\n",
        "!mkdir -p ~/.kaggle"
      ],
      "execution_count": 7,
      "outputs": [
        {
          "output_type": "stream",
          "text": [
            "Requirement already satisfied: lightgbm in /usr/local/lib/python3.6/dist-packages (2.2.3)\n",
            "Requirement already satisfied: scipy in /usr/local/lib/python3.6/dist-packages (from lightgbm) (1.2.1)\n",
            "Requirement already satisfied: numpy in /usr/local/lib/python3.6/dist-packages (from lightgbm) (1.16.3)\n",
            "Requirement already satisfied: scikit-learn in /usr/local/lib/python3.6/dist-packages (from lightgbm) (0.20.3)\n"
          ],
          "name": "stdout"
        }
      ]
    },
    {
      "cell_type": "markdown",
      "metadata": {
        "id": "AN_Fa7XN20oI",
        "colab_type": "text"
      },
      "source": [
        "Note: You should import your Kaggle .json API credentials. \n"
      ]
    },
    {
      "cell_type": "code",
      "metadata": {
        "id": "-1Kq2bNId87m",
        "colab_type": "code",
        "colab": {}
      },
      "source": [
        "# import os\n",
        "# import shutil\n",
        "# if not os.path.exists('.kaggle'):\n",
        "#     os.mkdir('.kaggle')\n",
        "#     shutil.move('Downloads/kaggle.json','.kaggle')\n",
        "# os.chmod('.kaggle/kaggle.json',600)\n",
        "from google.colab import files\n",
        "files.upload()"
      ],
      "execution_count": 0,
      "outputs": []
    },
    {
      "cell_type": "code",
      "metadata": {
        "id": "uJH15iZSd87p",
        "colab_type": "code",
        "colab": {}
      },
      "source": [
        "!cp kaggle.json ~/.kaggle/\n",
        "!chmod 600 /root/.kaggle/kaggle.json"
      ],
      "execution_count": 0,
      "outputs": []
    },
    {
      "cell_type": "code",
      "metadata": {
        "id": "TLM9Y-Had87s",
        "colab_type": "code",
        "colab": {
          "base_uri": "https://localhost:8080/",
          "height": 168
        },
        "outputId": "57872ad0-6f84-4e5e-9edf-3c7f855bde37"
      },
      "source": [
        "! kaggle competitions download otto-group-product-classification-challenge -p OTTO"
      ],
      "execution_count": 11,
      "outputs": [
        {
          "output_type": "stream",
          "text": [
            "Downloading sampleSubmission.csv to OTTO\n",
            "\r  0% 0.00/3.34M [00:00<?, ?B/s]\n",
            "100% 3.34M/3.34M [00:00<00:00, 109MB/s]\n",
            "Downloading train.csv.zip to OTTO\n",
            "  0% 0.00/1.59M [00:00<?, ?B/s]\n",
            "100% 1.59M/1.59M [00:00<00:00, 107MB/s]\n",
            "Downloading test.csv.zip to OTTO\n",
            "  0% 0.00/3.79M [00:00<?, ?B/s]\n",
            "100% 3.79M/3.79M [00:00<00:00, 126MB/s]\n"
          ],
          "name": "stdout"
        }
      ]
    },
    {
      "cell_type": "code",
      "metadata": {
        "id": "5MX-U3wnnW4M",
        "colab_type": "code",
        "colab": {}
      },
      "source": [
        "!unzip -qq OTTO/test.csv -d OTTO \n",
        "!unzip -qq OTTO/train.csv -d OTTO \n",
        "!rm -rf OTTO/test.csv.zip\n",
        "!rm -rf OTTO/train.csv.zip"
      ],
      "execution_count": 0,
      "outputs": []
    },
    {
      "cell_type": "code",
      "metadata": {
        "id": "OJZ52iiwd87v",
        "colab_type": "code",
        "colab": {}
      },
      "source": [
        "import pandas as pd\n",
        "import numpy as np\n",
        "import seaborn as sns\n",
        "import matplotlib.pyplot as plt\n",
        "from sklearn.compose import ColumnTransformer\n",
        "from sklearn.pipeline import Pipeline\n",
        "from sklearn.preprocessing import StandardScaler, OneHotEncoder, LabelEncoder, OrdinalEncoder\n",
        "from sklearn.preprocessing import LabelBinarizer,MultiLabelBinarizer, label_binarize\n",
        "\n",
        "from sklearn.decomposition import PCA\n",
        "from sklearn.model_selection import train_test_split\n",
        "\n",
        "\n",
        "import warnings\n",
        "warnings.filterwarnings('ignore')\n",
        "from IPython.core.interactiveshell import InteractiveShell\n",
        "InteractiveShell.ast_node_interactivity = \"all\""
      ],
      "execution_count": 0,
      "outputs": []
    },
    {
      "cell_type": "code",
      "metadata": {
        "id": "IBx2qACUd87y",
        "colab_type": "code",
        "colab": {}
      },
      "source": [
        "train = pd.read_csv('OTTO/train.csv',index_col=0)\n",
        "test = pd.read_csv('OTTO/test.csv',index_col=0)"
      ],
      "execution_count": 0,
      "outputs": []
    },
    {
      "cell_type": "code",
      "metadata": {
        "id": "iWntnSPHd871",
        "colab_type": "code",
        "colab": {
          "base_uri": "https://localhost:8080/",
          "height": 490
        },
        "outputId": "5550f4b6-0acc-4e81-935e-7d5d14ac6d80"
      },
      "source": [
        "train.head()\n",
        "test.head()"
      ],
      "execution_count": 8,
      "outputs": [
        {
          "output_type": "execute_result",
          "data": {
            "text/html": [
              "<div>\n",
              "<style scoped>\n",
              "    .dataframe tbody tr th:only-of-type {\n",
              "        vertical-align: middle;\n",
              "    }\n",
              "\n",
              "    .dataframe tbody tr th {\n",
              "        vertical-align: top;\n",
              "    }\n",
              "\n",
              "    .dataframe thead th {\n",
              "        text-align: right;\n",
              "    }\n",
              "</style>\n",
              "<table border=\"1\" class=\"dataframe\">\n",
              "  <thead>\n",
              "    <tr style=\"text-align: right;\">\n",
              "      <th></th>\n",
              "      <th>feat_1</th>\n",
              "      <th>feat_2</th>\n",
              "      <th>feat_3</th>\n",
              "      <th>feat_4</th>\n",
              "      <th>feat_5</th>\n",
              "      <th>feat_6</th>\n",
              "      <th>feat_7</th>\n",
              "      <th>feat_8</th>\n",
              "      <th>feat_9</th>\n",
              "      <th>feat_10</th>\n",
              "      <th>...</th>\n",
              "      <th>feat_85</th>\n",
              "      <th>feat_86</th>\n",
              "      <th>feat_87</th>\n",
              "      <th>feat_88</th>\n",
              "      <th>feat_89</th>\n",
              "      <th>feat_90</th>\n",
              "      <th>feat_91</th>\n",
              "      <th>feat_92</th>\n",
              "      <th>feat_93</th>\n",
              "      <th>target</th>\n",
              "    </tr>\n",
              "    <tr>\n",
              "      <th>id</th>\n",
              "      <th></th>\n",
              "      <th></th>\n",
              "      <th></th>\n",
              "      <th></th>\n",
              "      <th></th>\n",
              "      <th></th>\n",
              "      <th></th>\n",
              "      <th></th>\n",
              "      <th></th>\n",
              "      <th></th>\n",
              "      <th></th>\n",
              "      <th></th>\n",
              "      <th></th>\n",
              "      <th></th>\n",
              "      <th></th>\n",
              "      <th></th>\n",
              "      <th></th>\n",
              "      <th></th>\n",
              "      <th></th>\n",
              "      <th></th>\n",
              "      <th></th>\n",
              "    </tr>\n",
              "  </thead>\n",
              "  <tbody>\n",
              "    <tr>\n",
              "      <th>1</th>\n",
              "      <td>1</td>\n",
              "      <td>0</td>\n",
              "      <td>0</td>\n",
              "      <td>0</td>\n",
              "      <td>0</td>\n",
              "      <td>0</td>\n",
              "      <td>0</td>\n",
              "      <td>0</td>\n",
              "      <td>0</td>\n",
              "      <td>0</td>\n",
              "      <td>...</td>\n",
              "      <td>1</td>\n",
              "      <td>0</td>\n",
              "      <td>0</td>\n",
              "      <td>0</td>\n",
              "      <td>0</td>\n",
              "      <td>0</td>\n",
              "      <td>0</td>\n",
              "      <td>0</td>\n",
              "      <td>0</td>\n",
              "      <td>Class_1</td>\n",
              "    </tr>\n",
              "    <tr>\n",
              "      <th>2</th>\n",
              "      <td>0</td>\n",
              "      <td>0</td>\n",
              "      <td>0</td>\n",
              "      <td>0</td>\n",
              "      <td>0</td>\n",
              "      <td>0</td>\n",
              "      <td>0</td>\n",
              "      <td>1</td>\n",
              "      <td>0</td>\n",
              "      <td>0</td>\n",
              "      <td>...</td>\n",
              "      <td>0</td>\n",
              "      <td>0</td>\n",
              "      <td>0</td>\n",
              "      <td>0</td>\n",
              "      <td>0</td>\n",
              "      <td>0</td>\n",
              "      <td>0</td>\n",
              "      <td>0</td>\n",
              "      <td>0</td>\n",
              "      <td>Class_1</td>\n",
              "    </tr>\n",
              "    <tr>\n",
              "      <th>3</th>\n",
              "      <td>0</td>\n",
              "      <td>0</td>\n",
              "      <td>0</td>\n",
              "      <td>0</td>\n",
              "      <td>0</td>\n",
              "      <td>0</td>\n",
              "      <td>0</td>\n",
              "      <td>1</td>\n",
              "      <td>0</td>\n",
              "      <td>0</td>\n",
              "      <td>...</td>\n",
              "      <td>0</td>\n",
              "      <td>0</td>\n",
              "      <td>0</td>\n",
              "      <td>0</td>\n",
              "      <td>0</td>\n",
              "      <td>0</td>\n",
              "      <td>0</td>\n",
              "      <td>0</td>\n",
              "      <td>0</td>\n",
              "      <td>Class_1</td>\n",
              "    </tr>\n",
              "    <tr>\n",
              "      <th>4</th>\n",
              "      <td>1</td>\n",
              "      <td>0</td>\n",
              "      <td>0</td>\n",
              "      <td>1</td>\n",
              "      <td>6</td>\n",
              "      <td>1</td>\n",
              "      <td>5</td>\n",
              "      <td>0</td>\n",
              "      <td>0</td>\n",
              "      <td>1</td>\n",
              "      <td>...</td>\n",
              "      <td>0</td>\n",
              "      <td>1</td>\n",
              "      <td>2</td>\n",
              "      <td>0</td>\n",
              "      <td>0</td>\n",
              "      <td>0</td>\n",
              "      <td>0</td>\n",
              "      <td>0</td>\n",
              "      <td>0</td>\n",
              "      <td>Class_1</td>\n",
              "    </tr>\n",
              "    <tr>\n",
              "      <th>5</th>\n",
              "      <td>0</td>\n",
              "      <td>0</td>\n",
              "      <td>0</td>\n",
              "      <td>0</td>\n",
              "      <td>0</td>\n",
              "      <td>0</td>\n",
              "      <td>0</td>\n",
              "      <td>0</td>\n",
              "      <td>0</td>\n",
              "      <td>0</td>\n",
              "      <td>...</td>\n",
              "      <td>1</td>\n",
              "      <td>0</td>\n",
              "      <td>0</td>\n",
              "      <td>0</td>\n",
              "      <td>0</td>\n",
              "      <td>1</td>\n",
              "      <td>0</td>\n",
              "      <td>0</td>\n",
              "      <td>0</td>\n",
              "      <td>Class_1</td>\n",
              "    </tr>\n",
              "  </tbody>\n",
              "</table>\n",
              "<p>5 rows × 94 columns</p>\n",
              "</div>"
            ],
            "text/plain": [
              "    feat_1  feat_2  feat_3  feat_4  feat_5  feat_6  feat_7  feat_8  feat_9  \\\n",
              "id                                                                           \n",
              "1        1       0       0       0       0       0       0       0       0   \n",
              "2        0       0       0       0       0       0       0       1       0   \n",
              "3        0       0       0       0       0       0       0       1       0   \n",
              "4        1       0       0       1       6       1       5       0       0   \n",
              "5        0       0       0       0       0       0       0       0       0   \n",
              "\n",
              "    feat_10  ...  feat_85  feat_86  feat_87  feat_88  feat_89  feat_90  \\\n",
              "id           ...                                                         \n",
              "1         0  ...        1        0        0        0        0        0   \n",
              "2         0  ...        0        0        0        0        0        0   \n",
              "3         0  ...        0        0        0        0        0        0   \n",
              "4         1  ...        0        1        2        0        0        0   \n",
              "5         0  ...        1        0        0        0        0        1   \n",
              "\n",
              "    feat_91  feat_92  feat_93   target  \n",
              "id                                      \n",
              "1         0        0        0  Class_1  \n",
              "2         0        0        0  Class_1  \n",
              "3         0        0        0  Class_1  \n",
              "4         0        0        0  Class_1  \n",
              "5         0        0        0  Class_1  \n",
              "\n",
              "[5 rows x 94 columns]"
            ]
          },
          "metadata": {
            "tags": []
          },
          "execution_count": 8
        },
        {
          "output_type": "execute_result",
          "data": {
            "text/html": [
              "<div>\n",
              "<style scoped>\n",
              "    .dataframe tbody tr th:only-of-type {\n",
              "        vertical-align: middle;\n",
              "    }\n",
              "\n",
              "    .dataframe tbody tr th {\n",
              "        vertical-align: top;\n",
              "    }\n",
              "\n",
              "    .dataframe thead th {\n",
              "        text-align: right;\n",
              "    }\n",
              "</style>\n",
              "<table border=\"1\" class=\"dataframe\">\n",
              "  <thead>\n",
              "    <tr style=\"text-align: right;\">\n",
              "      <th></th>\n",
              "      <th>feat_1</th>\n",
              "      <th>feat_2</th>\n",
              "      <th>feat_3</th>\n",
              "      <th>feat_4</th>\n",
              "      <th>feat_5</th>\n",
              "      <th>feat_6</th>\n",
              "      <th>feat_7</th>\n",
              "      <th>feat_8</th>\n",
              "      <th>feat_9</th>\n",
              "      <th>feat_10</th>\n",
              "      <th>...</th>\n",
              "      <th>feat_84</th>\n",
              "      <th>feat_85</th>\n",
              "      <th>feat_86</th>\n",
              "      <th>feat_87</th>\n",
              "      <th>feat_88</th>\n",
              "      <th>feat_89</th>\n",
              "      <th>feat_90</th>\n",
              "      <th>feat_91</th>\n",
              "      <th>feat_92</th>\n",
              "      <th>feat_93</th>\n",
              "    </tr>\n",
              "    <tr>\n",
              "      <th>id</th>\n",
              "      <th></th>\n",
              "      <th></th>\n",
              "      <th></th>\n",
              "      <th></th>\n",
              "      <th></th>\n",
              "      <th></th>\n",
              "      <th></th>\n",
              "      <th></th>\n",
              "      <th></th>\n",
              "      <th></th>\n",
              "      <th></th>\n",
              "      <th></th>\n",
              "      <th></th>\n",
              "      <th></th>\n",
              "      <th></th>\n",
              "      <th></th>\n",
              "      <th></th>\n",
              "      <th></th>\n",
              "      <th></th>\n",
              "      <th></th>\n",
              "      <th></th>\n",
              "    </tr>\n",
              "  </thead>\n",
              "  <tbody>\n",
              "    <tr>\n",
              "      <th>1</th>\n",
              "      <td>0</td>\n",
              "      <td>0</td>\n",
              "      <td>0</td>\n",
              "      <td>0</td>\n",
              "      <td>0</td>\n",
              "      <td>0</td>\n",
              "      <td>0</td>\n",
              "      <td>0</td>\n",
              "      <td>0</td>\n",
              "      <td>3</td>\n",
              "      <td>...</td>\n",
              "      <td>0</td>\n",
              "      <td>0</td>\n",
              "      <td>11</td>\n",
              "      <td>1</td>\n",
              "      <td>20</td>\n",
              "      <td>0</td>\n",
              "      <td>0</td>\n",
              "      <td>0</td>\n",
              "      <td>0</td>\n",
              "      <td>0</td>\n",
              "    </tr>\n",
              "    <tr>\n",
              "      <th>2</th>\n",
              "      <td>2</td>\n",
              "      <td>2</td>\n",
              "      <td>14</td>\n",
              "      <td>16</td>\n",
              "      <td>0</td>\n",
              "      <td>0</td>\n",
              "      <td>0</td>\n",
              "      <td>0</td>\n",
              "      <td>0</td>\n",
              "      <td>0</td>\n",
              "      <td>...</td>\n",
              "      <td>0</td>\n",
              "      <td>0</td>\n",
              "      <td>0</td>\n",
              "      <td>0</td>\n",
              "      <td>0</td>\n",
              "      <td>4</td>\n",
              "      <td>0</td>\n",
              "      <td>0</td>\n",
              "      <td>2</td>\n",
              "      <td>0</td>\n",
              "    </tr>\n",
              "    <tr>\n",
              "      <th>3</th>\n",
              "      <td>0</td>\n",
              "      <td>1</td>\n",
              "      <td>12</td>\n",
              "      <td>1</td>\n",
              "      <td>0</td>\n",
              "      <td>0</td>\n",
              "      <td>0</td>\n",
              "      <td>0</td>\n",
              "      <td>0</td>\n",
              "      <td>0</td>\n",
              "      <td>...</td>\n",
              "      <td>0</td>\n",
              "      <td>0</td>\n",
              "      <td>0</td>\n",
              "      <td>0</td>\n",
              "      <td>2</td>\n",
              "      <td>0</td>\n",
              "      <td>0</td>\n",
              "      <td>0</td>\n",
              "      <td>0</td>\n",
              "      <td>1</td>\n",
              "    </tr>\n",
              "    <tr>\n",
              "      <th>4</th>\n",
              "      <td>0</td>\n",
              "      <td>0</td>\n",
              "      <td>0</td>\n",
              "      <td>1</td>\n",
              "      <td>0</td>\n",
              "      <td>0</td>\n",
              "      <td>0</td>\n",
              "      <td>0</td>\n",
              "      <td>0</td>\n",
              "      <td>0</td>\n",
              "      <td>...</td>\n",
              "      <td>0</td>\n",
              "      <td>3</td>\n",
              "      <td>1</td>\n",
              "      <td>0</td>\n",
              "      <td>0</td>\n",
              "      <td>0</td>\n",
              "      <td>0</td>\n",
              "      <td>0</td>\n",
              "      <td>0</td>\n",
              "      <td>0</td>\n",
              "    </tr>\n",
              "    <tr>\n",
              "      <th>5</th>\n",
              "      <td>1</td>\n",
              "      <td>0</td>\n",
              "      <td>0</td>\n",
              "      <td>1</td>\n",
              "      <td>0</td>\n",
              "      <td>0</td>\n",
              "      <td>1</td>\n",
              "      <td>2</td>\n",
              "      <td>0</td>\n",
              "      <td>3</td>\n",
              "      <td>...</td>\n",
              "      <td>0</td>\n",
              "      <td>0</td>\n",
              "      <td>0</td>\n",
              "      <td>0</td>\n",
              "      <td>0</td>\n",
              "      <td>0</td>\n",
              "      <td>0</td>\n",
              "      <td>9</td>\n",
              "      <td>0</td>\n",
              "      <td>0</td>\n",
              "    </tr>\n",
              "  </tbody>\n",
              "</table>\n",
              "<p>5 rows × 93 columns</p>\n",
              "</div>"
            ],
            "text/plain": [
              "    feat_1  feat_2  feat_3  feat_4  feat_5  feat_6  feat_7  feat_8  feat_9  \\\n",
              "id                                                                           \n",
              "1        0       0       0       0       0       0       0       0       0   \n",
              "2        2       2      14      16       0       0       0       0       0   \n",
              "3        0       1      12       1       0       0       0       0       0   \n",
              "4        0       0       0       1       0       0       0       0       0   \n",
              "5        1       0       0       1       0       0       1       2       0   \n",
              "\n",
              "    feat_10  ...  feat_84  feat_85  feat_86  feat_87  feat_88  feat_89  \\\n",
              "id           ...                                                         \n",
              "1         3  ...        0        0       11        1       20        0   \n",
              "2         0  ...        0        0        0        0        0        4   \n",
              "3         0  ...        0        0        0        0        2        0   \n",
              "4         0  ...        0        3        1        0        0        0   \n",
              "5         3  ...        0        0        0        0        0        0   \n",
              "\n",
              "    feat_90  feat_91  feat_92  feat_93  \n",
              "id                                      \n",
              "1         0        0        0        0  \n",
              "2         0        0        2        0  \n",
              "3         0        0        0        1  \n",
              "4         0        0        0        0  \n",
              "5         0        9        0        0  \n",
              "\n",
              "[5 rows x 93 columns]"
            ]
          },
          "metadata": {
            "tags": []
          },
          "execution_count": 8
        }
      ]
    },
    {
      "cell_type": "code",
      "metadata": {
        "id": "Vwus4N5Td875",
        "colab_type": "code",
        "colab": {}
      },
      "source": [
        "def missing_values(data):\n",
        "    for i,j in list(zip(data.columns, (data.isnull().sum()))):\n",
        "        if j>1:\n",
        "            print (f\"{i}: missing {j}\")\n",
        "        \n",
        "missing_values(train)     "
      ],
      "execution_count": 0,
      "outputs": []
    },
    {
      "cell_type": "code",
      "metadata": {
        "id": "Azt3NAU5d878",
        "colab_type": "code",
        "colab": {
          "base_uri": "https://localhost:8080/",
          "height": 610
        },
        "outputId": "a4cca9e4-35e1-428e-e61d-3c123d61d65b"
      },
      "source": [
        "train[\"target\"].value_counts().plot.bar()\n",
        "pd.DataFrame(train[\"target\"].value_counts())\n"
      ],
      "execution_count": 10,
      "outputs": [
        {
          "output_type": "execute_result",
          "data": {
            "text/plain": [
              "<matplotlib.axes._subplots.AxesSubplot at 0x7f158adb79b0>"
            ]
          },
          "metadata": {
            "tags": []
          },
          "execution_count": 10
        },
        {
          "output_type": "execute_result",
          "data": {
            "text/html": [
              "<div>\n",
              "<style scoped>\n",
              "    .dataframe tbody tr th:only-of-type {\n",
              "        vertical-align: middle;\n",
              "    }\n",
              "\n",
              "    .dataframe tbody tr th {\n",
              "        vertical-align: top;\n",
              "    }\n",
              "\n",
              "    .dataframe thead th {\n",
              "        text-align: right;\n",
              "    }\n",
              "</style>\n",
              "<table border=\"1\" class=\"dataframe\">\n",
              "  <thead>\n",
              "    <tr style=\"text-align: right;\">\n",
              "      <th></th>\n",
              "      <th>target</th>\n",
              "    </tr>\n",
              "  </thead>\n",
              "  <tbody>\n",
              "    <tr>\n",
              "      <th>Class_2</th>\n",
              "      <td>16122</td>\n",
              "    </tr>\n",
              "    <tr>\n",
              "      <th>Class_6</th>\n",
              "      <td>14135</td>\n",
              "    </tr>\n",
              "    <tr>\n",
              "      <th>Class_8</th>\n",
              "      <td>8464</td>\n",
              "    </tr>\n",
              "    <tr>\n",
              "      <th>Class_3</th>\n",
              "      <td>8004</td>\n",
              "    </tr>\n",
              "    <tr>\n",
              "      <th>Class_9</th>\n",
              "      <td>4955</td>\n",
              "    </tr>\n",
              "    <tr>\n",
              "      <th>Class_7</th>\n",
              "      <td>2839</td>\n",
              "    </tr>\n",
              "    <tr>\n",
              "      <th>Class_5</th>\n",
              "      <td>2739</td>\n",
              "    </tr>\n",
              "    <tr>\n",
              "      <th>Class_4</th>\n",
              "      <td>2691</td>\n",
              "    </tr>\n",
              "    <tr>\n",
              "      <th>Class_1</th>\n",
              "      <td>1929</td>\n",
              "    </tr>\n",
              "  </tbody>\n",
              "</table>\n",
              "</div>"
            ],
            "text/plain": [
              "         target\n",
              "Class_2   16122\n",
              "Class_6   14135\n",
              "Class_8    8464\n",
              "Class_3    8004\n",
              "Class_9    4955\n",
              "Class_7    2839\n",
              "Class_5    2739\n",
              "Class_4    2691\n",
              "Class_1    1929"
            ]
          },
          "metadata": {
            "tags": []
          },
          "execution_count": 10
        },
        {
          "output_type": "display_data",
          "data": {
            "image/png": "[encoded data removed]",
            "text/plain": [
              "<Figure size 432x288 with 1 Axes>"
            ]
          },
          "metadata": {
            "tags": []
          }
        }
      ]
    },
    {
      "cell_type": "code",
      "metadata": {
        "id": "QFxsA_wJd87_",
        "colab_type": "code",
        "colab": {}
      },
      "source": [
        "# train['target'] = train['target'].str[-1].astype(int) - 1"
      ],
      "execution_count": 0,
      "outputs": []
    },
    {
      "cell_type": "code",
      "metadata": {
        "id": "mAYJ6jXfd88G",
        "colab_type": "code",
        "colab": {
          "base_uri": "https://localhost:8080/",
          "height": 34
        },
        "outputId": "dd4b77ed-0f05-4ff1-dd09-ef4e7b4bcd83"
      },
      "source": [
        "scaler = StandardScaler()\n",
        "lbe = LabelEncoder ()\n",
        "train['target'] = lbe.fit_transform(train['target'])\n",
        "\n",
        "train.target.unique()\n",
        "\n",
        "# lb = LabelBinarizer()\n",
        "# train['target'] = label_binarize(train['target'], classes=[0, 1, 2, 3, 4, 5, 6 ,7 ,8])\n",
        "\n",
        "\n"
      ],
      "execution_count": 12,
      "outputs": [
        {
          "output_type": "execute_result",
          "data": {
            "text/plain": [
              "array([0, 1, 2, 3, 4, 5, 6, 7, 8])"
            ]
          },
          "metadata": {
            "tags": []
          },
          "execution_count": 12
        }
      ]
    },
    {
      "cell_type": "code",
      "metadata": {
        "id": "fbxhoCT_d88I",
        "colab_type": "code",
        "colab": {}
      },
      "source": [
        "for col in train.columns[:-1]:\n",
        "    train[col] = scaler.fit_transform(train[col].values.reshape(-1,1))\n",
        "    test[col] = scaler.transform(test[col].values.reshape(-1,1))"
      ],
      "execution_count": 0,
      "outputs": []
    },
    {
      "cell_type": "code",
      "metadata": {
        "id": "TQG4ILeNd88M",
        "colab_type": "code",
        "colab": {
          "base_uri": "https://localhost:8080/",
          "height": 274
        },
        "outputId": "88b24af0-0acc-434a-e2cf-d1fea3b8eb09"
      },
      "source": [
        "train.head()"
      ],
      "execution_count": 14,
      "outputs": [
        {
          "output_type": "execute_result",
          "data": {
            "text/html": [
              "<div>\n",
              "<style scoped>\n",
              "    .dataframe tbody tr th:only-of-type {\n",
              "        vertical-align: middle;\n",
              "    }\n",
              "\n",
              "    .dataframe tbody tr th {\n",
              "        vertical-align: top;\n",
              "    }\n",
              "\n",
              "    .dataframe thead th {\n",
              "        text-align: right;\n",
              "    }\n",
              "</style>\n",
              "<table border=\"1\" class=\"dataframe\">\n",
              "  <thead>\n",
              "    <tr style=\"text-align: right;\">\n",
              "      <th></th>\n",
              "      <th>feat_1</th>\n",
              "      <th>feat_2</th>\n",
              "      <th>feat_3</th>\n",
              "      <th>feat_4</th>\n",
              "      <th>feat_5</th>\n",
              "      <th>feat_6</th>\n",
              "      <th>feat_7</th>\n",
              "      <th>feat_8</th>\n",
              "      <th>feat_9</th>\n",
              "      <th>feat_10</th>\n",
              "      <th>...</th>\n",
              "      <th>feat_85</th>\n",
              "      <th>feat_86</th>\n",
              "      <th>feat_87</th>\n",
              "      <th>feat_88</th>\n",
              "      <th>feat_89</th>\n",
              "      <th>feat_90</th>\n",
              "      <th>feat_91</th>\n",
              "      <th>feat_92</th>\n",
              "      <th>feat_93</th>\n",
              "      <th>target</th>\n",
              "    </tr>\n",
              "    <tr>\n",
              "      <th>id</th>\n",
              "      <th></th>\n",
              "      <th></th>\n",
              "      <th></th>\n",
              "      <th></th>\n",
              "      <th></th>\n",
              "      <th></th>\n",
              "      <th></th>\n",
              "      <th></th>\n",
              "      <th></th>\n",
              "      <th></th>\n",
              "      <th></th>\n",
              "      <th></th>\n",
              "      <th></th>\n",
              "      <th></th>\n",
              "      <th></th>\n",
              "      <th></th>\n",
              "      <th></th>\n",
              "      <th></th>\n",
              "      <th></th>\n",
              "      <th></th>\n",
              "      <th></th>\n",
              "    </tr>\n",
              "  </thead>\n",
              "  <tbody>\n",
              "    <tr>\n",
              "      <th>1</th>\n",
              "      <td>0.402093</td>\n",
              "      <td>-0.210106</td>\n",
              "      <td>-0.307165</td>\n",
              "      <td>-0.279443</td>\n",
              "      <td>-0.161867</td>\n",
              "      <td>-0.119331</td>\n",
              "      <td>-0.188045</td>\n",
              "      <td>-0.293664</td>\n",
              "      <td>-0.291038</td>\n",
              "      <td>-0.243606</td>\n",
              "      <td>...</td>\n",
              "      <td>0.246100</td>\n",
              "      <td>-0.420870</td>\n",
              "      <td>-0.249802</td>\n",
              "      <td>-0.413584</td>\n",
              "      <td>-0.299712</td>\n",
              "      <td>-0.176699</td>\n",
              "      <td>-0.129516</td>\n",
              "      <td>-0.386938</td>\n",
              "      <td>-0.104963</td>\n",
              "      <td>0</td>\n",
              "    </tr>\n",
              "    <tr>\n",
              "      <th>2</th>\n",
              "      <td>-0.253508</td>\n",
              "      <td>-0.210106</td>\n",
              "      <td>-0.307165</td>\n",
              "      <td>-0.279443</td>\n",
              "      <td>-0.161867</td>\n",
              "      <td>-0.119331</td>\n",
              "      <td>-0.188045</td>\n",
              "      <td>0.149647</td>\n",
              "      <td>-0.291038</td>\n",
              "      <td>-0.243606</td>\n",
              "      <td>...</td>\n",
              "      <td>-0.280099</td>\n",
              "      <td>-0.420870</td>\n",
              "      <td>-0.249802</td>\n",
              "      <td>-0.413584</td>\n",
              "      <td>-0.299712</td>\n",
              "      <td>-0.176699</td>\n",
              "      <td>-0.129516</td>\n",
              "      <td>-0.386938</td>\n",
              "      <td>-0.104963</td>\n",
              "      <td>0</td>\n",
              "    </tr>\n",
              "    <tr>\n",
              "      <th>3</th>\n",
              "      <td>-0.253508</td>\n",
              "      <td>-0.210106</td>\n",
              "      <td>-0.307165</td>\n",
              "      <td>-0.279443</td>\n",
              "      <td>-0.161867</td>\n",
              "      <td>-0.119331</td>\n",
              "      <td>-0.188045</td>\n",
              "      <td>0.149647</td>\n",
              "      <td>-0.291038</td>\n",
              "      <td>-0.243606</td>\n",
              "      <td>...</td>\n",
              "      <td>-0.280099</td>\n",
              "      <td>-0.420870</td>\n",
              "      <td>-0.249802</td>\n",
              "      <td>-0.413584</td>\n",
              "      <td>-0.299712</td>\n",
              "      <td>-0.176699</td>\n",
              "      <td>-0.129516</td>\n",
              "      <td>-0.386938</td>\n",
              "      <td>-0.104963</td>\n",
              "      <td>0</td>\n",
              "    </tr>\n",
              "    <tr>\n",
              "      <th>4</th>\n",
              "      <td>0.402093</td>\n",
              "      <td>-0.210106</td>\n",
              "      <td>-0.307165</td>\n",
              "      <td>0.079240</td>\n",
              "      <td>13.508710</td>\n",
              "      <td>4.524667</td>\n",
              "      <td>4.665884</td>\n",
              "      <td>-0.293664</td>\n",
              "      <td>-0.291038</td>\n",
              "      <td>0.679472</td>\n",
              "      <td>...</td>\n",
              "      <td>-0.280099</td>\n",
              "      <td>-0.047949</td>\n",
              "      <td>1.019683</td>\n",
              "      <td>-0.413584</td>\n",
              "      <td>-0.299712</td>\n",
              "      <td>-0.176699</td>\n",
              "      <td>-0.129516</td>\n",
              "      <td>-0.386938</td>\n",
              "      <td>-0.104963</td>\n",
              "      <td>0</td>\n",
              "    </tr>\n",
              "    <tr>\n",
              "      <th>5</th>\n",
              "      <td>-0.253508</td>\n",
              "      <td>-0.210106</td>\n",
              "      <td>-0.307165</td>\n",
              "      <td>-0.279443</td>\n",
              "      <td>-0.161867</td>\n",
              "      <td>-0.119331</td>\n",
              "      <td>-0.188045</td>\n",
              "      <td>-0.293664</td>\n",
              "      <td>-0.291038</td>\n",
              "      <td>-0.243606</td>\n",
              "      <td>...</td>\n",
              "      <td>0.246100</td>\n",
              "      <td>-0.420870</td>\n",
              "      <td>-0.249802</td>\n",
              "      <td>-0.413584</td>\n",
              "      <td>-0.299712</td>\n",
              "      <td>0.040798</td>\n",
              "      <td>-0.129516</td>\n",
              "      <td>-0.386938</td>\n",
              "      <td>-0.104963</td>\n",
              "      <td>0</td>\n",
              "    </tr>\n",
              "  </tbody>\n",
              "</table>\n",
              "<p>5 rows × 94 columns</p>\n",
              "</div>"
            ],
            "text/plain": [
              "      feat_1    feat_2    feat_3    feat_4     feat_5    feat_6    feat_7  \\\n",
              "id                                                                          \n",
              "1   0.402093 -0.210106 -0.307165 -0.279443  -0.161867 -0.119331 -0.188045   \n",
              "2  -0.253508 -0.210106 -0.307165 -0.279443  -0.161867 -0.119331 -0.188045   \n",
              "3  -0.253508 -0.210106 -0.307165 -0.279443  -0.161867 -0.119331 -0.188045   \n",
              "4   0.402093 -0.210106 -0.307165  0.079240  13.508710  4.524667  4.665884   \n",
              "5  -0.253508 -0.210106 -0.307165 -0.279443  -0.161867 -0.119331 -0.188045   \n",
              "\n",
              "      feat_8    feat_9   feat_10  ...   feat_85   feat_86   feat_87   feat_88  \\\n",
              "id                                ...                                           \n",
              "1  -0.293664 -0.291038 -0.243606  ...  0.246100 -0.420870 -0.249802 -0.413584   \n",
              "2   0.149647 -0.291038 -0.243606  ... -0.280099 -0.420870 -0.249802 -0.413584   \n",
              "3   0.149647 -0.291038 -0.243606  ... -0.280099 -0.420870 -0.249802 -0.413584   \n",
              "4  -0.293664 -0.291038  0.679472  ... -0.280099 -0.047949  1.019683 -0.413584   \n",
              "5  -0.293664 -0.291038 -0.243606  ...  0.246100 -0.420870 -0.249802 -0.413584   \n",
              "\n",
              "     feat_89   feat_90   feat_91   feat_92   feat_93  target  \n",
              "id                                                            \n",
              "1  -0.299712 -0.176699 -0.129516 -0.386938 -0.104963       0  \n",
              "2  -0.299712 -0.176699 -0.129516 -0.386938 -0.104963       0  \n",
              "3  -0.299712 -0.176699 -0.129516 -0.386938 -0.104963       0  \n",
              "4  -0.299712 -0.176699 -0.129516 -0.386938 -0.104963       0  \n",
              "5  -0.299712  0.040798 -0.129516 -0.386938 -0.104963       0  \n",
              "\n",
              "[5 rows x 94 columns]"
            ]
          },
          "metadata": {
            "tags": []
          },
          "execution_count": 14
        }
      ]
    },
    {
      "cell_type": "code",
      "metadata": {
        "id": "ZgnMWc0Ld88R",
        "colab_type": "code",
        "colab": {
          "base_uri": "https://localhost:8080/",
          "height": 391
        },
        "outputId": "ef6fb8a2-55f4-4077-ce9e-33692204522b"
      },
      "source": [
        "feature = train.drop('target',axis=1)\n",
        "target = train['target']\n",
        "feature.head()\n",
        "target.head()"
      ],
      "execution_count": 15,
      "outputs": [
        {
          "output_type": "execute_result",
          "data": {
            "text/html": [
              "<div>\n",
              "<style scoped>\n",
              "    .dataframe tbody tr th:only-of-type {\n",
              "        vertical-align: middle;\n",
              "    }\n",
              "\n",
              "    .dataframe tbody tr th {\n",
              "        vertical-align: top;\n",
              "    }\n",
              "\n",
              "    .dataframe thead th {\n",
              "        text-align: right;\n",
              "    }\n",
              "</style>\n",
              "<table border=\"1\" class=\"dataframe\">\n",
              "  <thead>\n",
              "    <tr style=\"text-align: right;\">\n",
              "      <th></th>\n",
              "      <th>feat_1</th>\n",
              "      <th>feat_2</th>\n",
              "      <th>feat_3</th>\n",
              "      <th>feat_4</th>\n",
              "      <th>feat_5</th>\n",
              "      <th>feat_6</th>\n",
              "      <th>feat_7</th>\n",
              "      <th>feat_8</th>\n",
              "      <th>feat_9</th>\n",
              "      <th>feat_10</th>\n",
              "      <th>...</th>\n",
              "      <th>feat_84</th>\n",
              "      <th>feat_85</th>\n",
              "      <th>feat_86</th>\n",
              "      <th>feat_87</th>\n",
              "      <th>feat_88</th>\n",
              "      <th>feat_89</th>\n",
              "      <th>feat_90</th>\n",
              "      <th>feat_91</th>\n",
              "      <th>feat_92</th>\n",
              "      <th>feat_93</th>\n",
              "    </tr>\n",
              "    <tr>\n",
              "      <th>id</th>\n",
              "      <th></th>\n",
              "      <th></th>\n",
              "      <th></th>\n",
              "      <th></th>\n",
              "      <th></th>\n",
              "      <th></th>\n",
              "      <th></th>\n",
              "      <th></th>\n",
              "      <th></th>\n",
              "      <th></th>\n",
              "      <th></th>\n",
              "      <th></th>\n",
              "      <th></th>\n",
              "      <th></th>\n",
              "      <th></th>\n",
              "      <th></th>\n",
              "      <th></th>\n",
              "      <th></th>\n",
              "      <th></th>\n",
              "      <th></th>\n",
              "      <th></th>\n",
              "    </tr>\n",
              "  </thead>\n",
              "  <tbody>\n",
              "    <tr>\n",
              "      <th>1</th>\n",
              "      <td>0.402093</td>\n",
              "      <td>-0.210106</td>\n",
              "      <td>-0.307165</td>\n",
              "      <td>-0.279443</td>\n",
              "      <td>-0.161867</td>\n",
              "      <td>-0.119331</td>\n",
              "      <td>-0.188045</td>\n",
              "      <td>-0.293664</td>\n",
              "      <td>-0.291038</td>\n",
              "      <td>-0.243606</td>\n",
              "      <td>...</td>\n",
              "      <td>-0.061446</td>\n",
              "      <td>0.246100</td>\n",
              "      <td>-0.420870</td>\n",
              "      <td>-0.249802</td>\n",
              "      <td>-0.413584</td>\n",
              "      <td>-0.299712</td>\n",
              "      <td>-0.176699</td>\n",
              "      <td>-0.129516</td>\n",
              "      <td>-0.386938</td>\n",
              "      <td>-0.104963</td>\n",
              "    </tr>\n",
              "    <tr>\n",
              "      <th>2</th>\n",
              "      <td>-0.253508</td>\n",
              "      <td>-0.210106</td>\n",
              "      <td>-0.307165</td>\n",
              "      <td>-0.279443</td>\n",
              "      <td>-0.161867</td>\n",
              "      <td>-0.119331</td>\n",
              "      <td>-0.188045</td>\n",
              "      <td>0.149647</td>\n",
              "      <td>-0.291038</td>\n",
              "      <td>-0.243606</td>\n",
              "      <td>...</td>\n",
              "      <td>-0.061446</td>\n",
              "      <td>-0.280099</td>\n",
              "      <td>-0.420870</td>\n",
              "      <td>-0.249802</td>\n",
              "      <td>-0.413584</td>\n",
              "      <td>-0.299712</td>\n",
              "      <td>-0.176699</td>\n",
              "      <td>-0.129516</td>\n",
              "      <td>-0.386938</td>\n",
              "      <td>-0.104963</td>\n",
              "    </tr>\n",
              "    <tr>\n",
              "      <th>3</th>\n",
              "      <td>-0.253508</td>\n",
              "      <td>-0.210106</td>\n",
              "      <td>-0.307165</td>\n",
              "      <td>-0.279443</td>\n",
              "      <td>-0.161867</td>\n",
              "      <td>-0.119331</td>\n",
              "      <td>-0.188045</td>\n",
              "      <td>0.149647</td>\n",
              "      <td>-0.291038</td>\n",
              "      <td>-0.243606</td>\n",
              "      <td>...</td>\n",
              "      <td>-0.061446</td>\n",
              "      <td>-0.280099</td>\n",
              "      <td>-0.420870</td>\n",
              "      <td>-0.249802</td>\n",
              "      <td>-0.413584</td>\n",
              "      <td>-0.299712</td>\n",
              "      <td>-0.176699</td>\n",
              "      <td>-0.129516</td>\n",
              "      <td>-0.386938</td>\n",
              "      <td>-0.104963</td>\n",
              "    </tr>\n",
              "    <tr>\n",
              "      <th>4</th>\n",
              "      <td>0.402093</td>\n",
              "      <td>-0.210106</td>\n",
              "      <td>-0.307165</td>\n",
              "      <td>0.079240</td>\n",
              "      <td>13.508710</td>\n",
              "      <td>4.524667</td>\n",
              "      <td>4.665884</td>\n",
              "      <td>-0.293664</td>\n",
              "      <td>-0.291038</td>\n",
              "      <td>0.679472</td>\n",
              "      <td>...</td>\n",
              "      <td>19.044887</td>\n",
              "      <td>-0.280099</td>\n",
              "      <td>-0.047949</td>\n",
              "      <td>1.019683</td>\n",
              "      <td>-0.413584</td>\n",
              "      <td>-0.299712</td>\n",
              "      <td>-0.176699</td>\n",
              "      <td>-0.129516</td>\n",
              "      <td>-0.386938</td>\n",
              "      <td>-0.104963</td>\n",
              "    </tr>\n",
              "    <tr>\n",
              "      <th>5</th>\n",
              "      <td>-0.253508</td>\n",
              "      <td>-0.210106</td>\n",
              "      <td>-0.307165</td>\n",
              "      <td>-0.279443</td>\n",
              "      <td>-0.161867</td>\n",
              "      <td>-0.119331</td>\n",
              "      <td>-0.188045</td>\n",
              "      <td>-0.293664</td>\n",
              "      <td>-0.291038</td>\n",
              "      <td>-0.243606</td>\n",
              "      <td>...</td>\n",
              "      <td>-0.061446</td>\n",
              "      <td>0.246100</td>\n",
              "      <td>-0.420870</td>\n",
              "      <td>-0.249802</td>\n",
              "      <td>-0.413584</td>\n",
              "      <td>-0.299712</td>\n",
              "      <td>0.040798</td>\n",
              "      <td>-0.129516</td>\n",
              "      <td>-0.386938</td>\n",
              "      <td>-0.104963</td>\n",
              "    </tr>\n",
              "  </tbody>\n",
              "</table>\n",
              "<p>5 rows × 93 columns</p>\n",
              "</div>"
            ],
            "text/plain": [
              "      feat_1    feat_2    feat_3    feat_4     feat_5    feat_6    feat_7  \\\n",
              "id                                                                          \n",
              "1   0.402093 -0.210106 -0.307165 -0.279443  -0.161867 -0.119331 -0.188045   \n",
              "2  -0.253508 -0.210106 -0.307165 -0.279443  -0.161867 -0.119331 -0.188045   \n",
              "3  -0.253508 -0.210106 -0.307165 -0.279443  -0.161867 -0.119331 -0.188045   \n",
              "4   0.402093 -0.210106 -0.307165  0.079240  13.508710  4.524667  4.665884   \n",
              "5  -0.253508 -0.210106 -0.307165 -0.279443  -0.161867 -0.119331 -0.188045   \n",
              "\n",
              "      feat_8    feat_9   feat_10  ...    feat_84   feat_85   feat_86  \\\n",
              "id                                ...                                  \n",
              "1  -0.293664 -0.291038 -0.243606  ...  -0.061446  0.246100 -0.420870   \n",
              "2   0.149647 -0.291038 -0.243606  ...  -0.061446 -0.280099 -0.420870   \n",
              "3   0.149647 -0.291038 -0.243606  ...  -0.061446 -0.280099 -0.420870   \n",
              "4  -0.293664 -0.291038  0.679472  ...  19.044887 -0.280099 -0.047949   \n",
              "5  -0.293664 -0.291038 -0.243606  ...  -0.061446  0.246100 -0.420870   \n",
              "\n",
              "     feat_87   feat_88   feat_89   feat_90   feat_91   feat_92   feat_93  \n",
              "id                                                                        \n",
              "1  -0.249802 -0.413584 -0.299712 -0.176699 -0.129516 -0.386938 -0.104963  \n",
              "2  -0.249802 -0.413584 -0.299712 -0.176699 -0.129516 -0.386938 -0.104963  \n",
              "3  -0.249802 -0.413584 -0.299712 -0.176699 -0.129516 -0.386938 -0.104963  \n",
              "4   1.019683 -0.413584 -0.299712 -0.176699 -0.129516 -0.386938 -0.104963  \n",
              "5  -0.249802 -0.413584 -0.299712  0.040798 -0.129516 -0.386938 -0.104963  \n",
              "\n",
              "[5 rows x 93 columns]"
            ]
          },
          "metadata": {
            "tags": []
          },
          "execution_count": 15
        },
        {
          "output_type": "execute_result",
          "data": {
            "text/plain": [
              "id\n",
              "1    0\n",
              "2    0\n",
              "3    0\n",
              "4    0\n",
              "5    0\n",
              "Name: target, dtype: int64"
            ]
          },
          "metadata": {
            "tags": []
          },
          "execution_count": 15
        }
      ]
    },
    {
      "cell_type": "code",
      "metadata": {
        "id": "aYfChobHd88U",
        "colab_type": "code",
        "colab": {}
      },
      "source": [
        ""
      ],
      "execution_count": 0,
      "outputs": []
    },
    {
      "cell_type": "code",
      "metadata": {
        "id": "WLxRNwVyd88i",
        "colab_type": "code",
        "colab": {}
      },
      "source": [
        "# pca = PCA(.95)\n",
        "# feature = pca.fit_transform(feature)\n",
        "# test = pca.transform(test)"
      ],
      "execution_count": 0,
      "outputs": []
    },
    {
      "cell_type": "code",
      "metadata": {
        "id": "hlkwSG5vd88p",
        "colab_type": "code",
        "colab": {}
      },
      "source": [
        "from sklearn.neighbors import KNeighborsClassifier\n",
        "from sklearn.linear_model import LogisticRegression\n",
        "from sklearn.tree import DecisionTreeClassifier\n",
        "from sklearn.svm import SVC\n",
        "from sklearn.ensemble import RandomForestClassifier,AdaBoostClassifier,BaggingClassifier,ExtraTreesClassifier\n",
        "import lightgbm as lgb\n",
        "from sklearn.preprocessing import LabelBinarizer,MultiLabelBinarizer\n",
        "from sklearn.metrics import roc_curve, log_loss, roc_auc_score\n",
        "\n",
        "from sklearn.model_selection import cross_val_score,GridSearchCV, cross_validate, KFold\n",
        "from sklearn.metrics import accuracy_score,confusion_matrix,classification_report,roc_curve, auc\n",
        "from sklearn.model_selection import train_test_split\n",
        "from sklearn.multiclass import OneVsRestClassifier\n",
        "\n"
      ],
      "execution_count": 0,
      "outputs": []
    },
    {
      "cell_type": "code",
      "metadata": {
        "id": "NAtgF5aBd886",
        "colab_type": "code",
        "colab": {}
      },
      "source": [
        "X_train, X_test, y_train, y_test = train_test_split(feature, target, test_size = 0.25)"
      ],
      "execution_count": 0,
      "outputs": []
    },
    {
      "cell_type": "code",
      "metadata": {
        "id": "2096PtKrd89A",
        "colab_type": "code",
        "colab": {
          "base_uri": "https://localhost:8080/",
          "height": 907
        },
        "outputId": "2e7a71a3-54a2-4bc2-bee5-5e9704c7e07f"
      },
      "source": [
        "lgb_train = lgb.Dataset(X_train, y_train)\n",
        "lgb_eval = lgb.Dataset(X_test, y_test, reference=lgb_train)\n",
        "\n",
        "parameters = {\n",
        "    'application': 'multiclass',\n",
        "    'objective': 'binary',\n",
        "    'metric': ('auc'),\n",
        "    'is_unbalance': 'true',\n",
        "    'boosting': 'gbdt',\n",
        "    'num_leaves': 31,\n",
        "    'feature_fraction': 0.5,\n",
        "    'bagging_fraction': 0.5,\n",
        "    'bagging_freq': 20,\n",
        "    'learning_rate': 0.02,\n",
        "    'verbose': 0,\n",
        "    'max_bin': 500\n",
        "}\n",
        "\n",
        "evals_result={}\n",
        "gbm = lgb.train(parameters,\n",
        "                lgb_train,\n",
        "                num_boost_round=50,\n",
        "                valid_sets=[lgb_train, lgb_eval],\n",
        "                early_stopping_rounds=50,\n",
        "                evals_result=evals_result)"
      ],
      "execution_count": 28,
      "outputs": [
        {
          "output_type": "stream",
          "text": [
            "[1]\ttraining's auc: 0.88186\tvalid_1's auc: 0.845959\n",
            "Training until validation scores don't improve for 50 rounds.\n",
            "[2]\ttraining's auc: 0.908163\tvalid_1's auc: 0.885395\n",
            "[3]\ttraining's auc: 0.918242\tvalid_1's auc: 0.89265\n",
            "[4]\ttraining's auc: 0.927254\tvalid_1's auc: 0.900426\n",
            "[5]\ttraining's auc: 0.933433\tvalid_1's auc: 0.906891\n",
            "[6]\ttraining's auc: 0.937348\tvalid_1's auc: 0.910492\n",
            "[7]\ttraining's auc: 0.940665\tvalid_1's auc: 0.913767\n",
            "[8]\ttraining's auc: 0.942269\tvalid_1's auc: 0.915467\n",
            "[9]\ttraining's auc: 0.943435\tvalid_1's auc: 0.916676\n",
            "[10]\ttraining's auc: 0.944821\tvalid_1's auc: 0.918178\n",
            "[11]\ttraining's auc: 0.946208\tvalid_1's auc: 0.919211\n",
            "[12]\ttraining's auc: 0.94724\tvalid_1's auc: 0.920572\n",
            "[13]\ttraining's auc: 0.948036\tvalid_1's auc: 0.921598\n",
            "[14]\ttraining's auc: 0.948586\tvalid_1's auc: 0.922063\n",
            "[15]\ttraining's auc: 0.949534\tvalid_1's auc: 0.923022\n",
            "[16]\ttraining's auc: 0.950146\tvalid_1's auc: 0.923358\n",
            "[17]\ttraining's auc: 0.950876\tvalid_1's auc: 0.92385\n",
            "[18]\ttraining's auc: 0.951266\tvalid_1's auc: 0.924303\n",
            "[19]\ttraining's auc: 0.951976\tvalid_1's auc: 0.924693\n",
            "[20]\ttraining's auc: 0.952645\tvalid_1's auc: 0.925386\n",
            "[21]\ttraining's auc: 0.953617\tvalid_1's auc: 0.925608\n",
            "[22]\ttraining's auc: 0.95483\tvalid_1's auc: 0.926436\n",
            "[23]\ttraining's auc: 0.955519\tvalid_1's auc: 0.926943\n",
            "[24]\ttraining's auc: 0.956268\tvalid_1's auc: 0.92743\n",
            "[25]\ttraining's auc: 0.956949\tvalid_1's auc: 0.927922\n",
            "[26]\ttraining's auc: 0.957578\tvalid_1's auc: 0.928657\n",
            "[27]\ttraining's auc: 0.958028\tvalid_1's auc: 0.92887\n",
            "[28]\ttraining's auc: 0.958382\tvalid_1's auc: 0.929186\n",
            "[29]\ttraining's auc: 0.958947\tvalid_1's auc: 0.929444\n",
            "[30]\ttraining's auc: 0.959631\tvalid_1's auc: 0.930034\n",
            "[31]\ttraining's auc: 0.959919\tvalid_1's auc: 0.930091\n",
            "[32]\ttraining's auc: 0.960274\tvalid_1's auc: 0.930287\n",
            "[33]\ttraining's auc: 0.960481\tvalid_1's auc: 0.930419\n",
            "[34]\ttraining's auc: 0.960674\tvalid_1's auc: 0.930444\n",
            "[35]\ttraining's auc: 0.960825\tvalid_1's auc: 0.930437\n",
            "[36]\ttraining's auc: 0.961191\tvalid_1's auc: 0.931017\n",
            "[37]\ttraining's auc: 0.96146\tvalid_1's auc: 0.931238\n",
            "[38]\ttraining's auc: 0.961885\tvalid_1's auc: 0.931611\n",
            "[39]\ttraining's auc: 0.962074\tvalid_1's auc: 0.931822\n",
            "[40]\ttraining's auc: 0.962462\tvalid_1's auc: 0.932317\n",
            "[41]\ttraining's auc: 0.962945\tvalid_1's auc: 0.932608\n",
            "[42]\ttraining's auc: 0.96349\tvalid_1's auc: 0.932887\n",
            "[43]\ttraining's auc: 0.964013\tvalid_1's auc: 0.933509\n",
            "[44]\ttraining's auc: 0.964366\tvalid_1's auc: 0.934012\n",
            "[45]\ttraining's auc: 0.964692\tvalid_1's auc: 0.934111\n",
            "[46]\ttraining's auc: 0.965017\tvalid_1's auc: 0.934396\n",
            "[47]\ttraining's auc: 0.965302\tvalid_1's auc: 0.934738\n",
            "[48]\ttraining's auc: 0.965671\tvalid_1's auc: 0.935044\n",
            "[49]\ttraining's auc: 0.966082\tvalid_1's auc: 0.935412\n",
            "[50]\ttraining's auc: 0.966227\tvalid_1's auc: 0.935366\n",
            "Did not meet early stopping. Best iteration is:\n",
            "[50]\ttraining's auc: 0.966227\tvalid_1's auc: 0.935366\n"
          ],
          "name": "stdout"
        }
      ]
    },
    {
      "cell_type": "code",
      "metadata": {
        "id": "mknRe7nxgK_Z",
        "colab_type": "code",
        "colab": {
          "base_uri": "https://localhost:8080/",
          "height": 312
        },
        "outputId": "b457d2a4-8109-43a8-ee6e-7a79022abca9"
      },
      "source": [
        "ax = lgb.plot_metric(evals_result, metric='auc')\n",
        "plt.show()"
      ],
      "execution_count": 29,
      "outputs": [
        {
          "output_type": "execute_result",
          "data": {
            "text/plain": [
              "<function lightgbm.plotting.plot_tree>"
            ]
          },
          "metadata": {
            "tags": []
          },
          "execution_count": 29
        },
        {
          "output_type": "display_data",
          "data": {
            "image/png": "[encoded data removed]",
            "text/plain": [
              "<Figure size 432x288 with 1 Axes>"
            ]
          },
          "metadata": {
            "tags": []
          }
        }
      ]
    },
    {
      "cell_type": "code",
      "metadata": {
        "id": "pcdsMb9od89C",
        "colab_type": "code",
        "colab": {
          "base_uri": "https://localhost:8080/",
          "height": 689
        },
        "outputId": "b12d8b1e-3ec4-47c5-ace8-24739afb4cd1"
      },
      "source": [
        "lgb.cv(parameters, lgb_train, 20, nfold=10)"
      ],
      "execution_count": 39,
      "outputs": [
        {
          "output_type": "execute_result",
          "data": {
            "text/plain": [
              "{'auc-mean': [0.8571886902512338,\n",
              "  0.8928922991680119,\n",
              "  0.9031411438316848,\n",
              "  0.9130088714763053,\n",
              "  0.9186818275977714,\n",
              "  0.9228003138130905,\n",
              "  0.9253101374803199,\n",
              "  0.927104385494874,\n",
              "  0.9284789090925752,\n",
              "  0.9300731816364278,\n",
              "  0.9310836096795638,\n",
              "  0.9317968833064871,\n",
              "  0.9325647553950415,\n",
              "  0.9331180200204793,\n",
              "  0.9338673643557762,\n",
              "  0.9342967726213164,\n",
              "  0.9347346107740113,\n",
              "  0.935192378934001,\n",
              "  0.93566367951732,\n",
              "  0.9361632382468474],\n",
              " 'auc-stdv': [0.011855737698079355,\n",
              "  0.009775371345714634,\n",
              "  0.008290077776700384,\n",
              "  0.006974857803820316,\n",
              "  0.006526383793894637,\n",
              "  0.005562456053882112,\n",
              "  0.005746503278273487,\n",
              "  0.005663758457105966,\n",
              "  0.005592709920258464,\n",
              "  0.005313266608309898,\n",
              "  0.005182982813521982,\n",
              "  0.005251739118632006,\n",
              "  0.005384453986501933,\n",
              "  0.005425504476284574,\n",
              "  0.0053124554479898585,\n",
              "  0.005158840990795841,\n",
              "  0.005067761488964946,\n",
              "  0.004887319582755141,\n",
              "  0.004957002619191339,\n",
              "  0.0049301740365103675]}"
            ]
          },
          "metadata": {
            "tags": []
          },
          "execution_count": 39
        }
      ]
    },
    {
      "cell_type": "code",
      "metadata": {
        "id": "WdomG65ed89E",
        "colab_type": "code",
        "colab": {}
      },
      "source": [
        ""
      ],
      "execution_count": 0,
      "outputs": []
    },
    {
      "cell_type": "code",
      "metadata": {
        "id": "UD4olgFCd89G",
        "colab_type": "code",
        "colab": {}
      },
      "source": [
        ""
      ],
      "execution_count": 0,
      "outputs": []
    },
    {
      "cell_type": "code",
      "metadata": {
        "id": "wPV4E-PAd89I",
        "colab_type": "code",
        "colab": {}
      },
      "source": [
        ""
      ],
      "execution_count": 0,
      "outputs": []
    },
    {
      "cell_type": "code",
      "metadata": {
        "id": "K8gqkxB_d89J",
        "colab_type": "code",
        "colab": {}
      },
      "source": [
        "clf_log = LogisticRegression(n_jobs=-1)\n",
        "clf_forest = RandomForestClassifier(n_jobs=-1)\n",
        "clf_tree = DecisionTreeClassifier()\n",
        "clf_knn = KNeighborsClassifier(n_jobs=-1)\n",
        "clf_svc = SVC()\n",
        "\n",
        "\n",
        "models = {\n",
        "#          'log Rgression':clf_log,\n",
        "         'Random Forest Classifier':clf_forest,\n",
        "         'Decision Tree Classifer':clf_tree,\n",
        "         'KNeighbors Classifer':clf_knn,\n",
        "#          'Support Vector Classification':clf_svc\n",
        "         }\n"
      ],
      "execution_count": 0,
      "outputs": []
    },
    {
      "cell_type": "code",
      "metadata": {
        "id": "tglSWJYzd89L",
        "colab_type": "code",
        "colab": {}
      },
      "source": [
        "# OneVsRestClassifier?"
      ],
      "execution_count": 0,
      "outputs": []
    },
    {
      "cell_type": "code",
      "metadata": {
        "id": "A1HbyxBGl3of",
        "colab_type": "code",
        "colab": {
          "base_uri": "https://localhost:8080/",
          "height": 34
        },
        "outputId": "8f50349a-a46b-4ee0-f350-508d6e5a3009"
      },
      "source": [
        "feature = train.drop('target',axis=1)\n",
        "target = train['target']\n",
        "feature.shape\n",
        "target.shape"
      ],
      "execution_count": 46,
      "outputs": [
        {
          "output_type": "execute_result",
          "data": {
            "text/plain": [
              "(61878, 93)"
            ]
          },
          "metadata": {
            "tags": []
          },
          "execution_count": 46
        },
        {
          "output_type": "execute_result",
          "data": {
            "text/plain": [
              "(61878,)"
            ]
          },
          "metadata": {
            "tags": []
          },
          "execution_count": 46
        }
      ]
    },
    {
      "cell_type": "code",
      "metadata": {
        "id": "jknovZALlOe0",
        "colab_type": "code",
        "colab": {
          "base_uri": "https://localhost:8080/",
          "height": 34
        },
        "outputId": "85d33f5a-393e-43a4-824b-9d5aca735705"
      },
      "source": [
        "pca = PCA(.95)\n",
        "feature = pca.fit_transform(feature)\n",
        "feature.shape"
      ],
      "execution_count": 47,
      "outputs": [
        {
          "output_type": "execute_result",
          "data": {
            "text/plain": [
              "(61878, 57)"
            ]
          },
          "metadata": {
            "tags": []
          },
          "execution_count": 47
        }
      ]
    },
    {
      "cell_type": "code",
      "metadata": {
        "id": "sN1ckuSmlPVc",
        "colab_type": "code",
        "colab": {}
      },
      "source": [
        "X_train, X_test, y_train, y_test = train_test_split(feature, target, test_size = 0.25)"
      ],
      "execution_count": 0,
      "outputs": []
    },
    {
      "cell_type": "code",
      "metadata": {
        "id": "CE3WY8ipd89N",
        "colab_type": "code",
        "colab": {
          "base_uri": "https://localhost:8080/",
          "height": 371
        },
        "outputId": "6d5ef6c9-575b-4bae-d913-cd1c053e00e6"
      },
      "source": [
        "acc_score = {}\n",
        "for name,model in models.items():\n",
        "#     model = OneVsRestClassifier(model,n_jobs=-1)\n",
        "#     model.multilabel_.fit(X_train,y_train)\n",
        "    model.fit(X_train,y_train)\n",
        "    predict = model.predict(X_test)\n",
        "#     predict_prob=model.predict_proba(X_test)\n",
        "\n",
        "    acc_score[name] = accuracy_score(y_test,predict)\n",
        "    \n",
        "        \n",
        "#     print (roc_auc_score(y_test, predict))\n",
        "\n",
        "#     fpr = dict()\n",
        "#     tpr = dict()\n",
        "#     roc_auc = dict()\n",
        "#     for i in range(target.shape[1]):\n",
        "#         lw=3\n",
        "#         fpr[i], tpr[i], _ = roc_curve(y_test[:,i], predict_prob[:,i])\n",
        "#         roc_auc[i] = auc(fpr[i], tpr[i])\n",
        "#         plt.plot(fpr[1], tpr[1], lw=lw,label='ROC curve of class {0} (area = {1:0.2f})'''.format(i, roc_auc[i]))\n",
        "        \n",
        "#     fpr[\"micro\"], tpr[\"micro\"], _ = roc_curve(y_test.ravel(), predict_prob.ravel())\n",
        "#     roc_auc[\"micro\"] = auc(fpr[\"micro\"], tpr[\"micro\"])\n",
        "#     plt.figure()\n",
        "#     lw = 2\n",
        "#     plt.plot(fpr[2], tpr[2], color='darkorange',lw=lw, label='ROC curve (area = %0.2f)' % roc_auc[2])\n",
        "#     plt.plot([0, 1], [0, 1], color='navy', lw=lw, linestyle='--')\n",
        "#     plt.xlim([0.0, 1.0])\n",
        "#     plt.ylim([0.0, 1.05])\n",
        "#     plt.xlabel('False Positive Rate')\n",
        "#     plt.ylabel('True Positive Rate')\n",
        "#     plt.title('Receiver operating characteristic example')\n",
        "#     plt.legend(loc=\"lower right\")\n",
        "#     plt.show()\n",
        "        \n",
        "#     plt.plot([0, 1], [0, 1], color='black', lw=lw, linestyle='--')\n",
        "#     plt.xlim([0.0, 1.0])\n",
        "#     plt.ylim([0.0, 1.05])\n",
        "#     plt.xlabel('False Positive Rate')\n",
        "#     plt.ylabel('True Positive Rate')\n",
        "#     plt.title('Receiver operating characteristic example')\n",
        "#     plt.legend(loc=\"lower right\")\n",
        "#     plt.show()\n",
        "    \n",
        "\n",
        "pd.DataFrame.from_dict(acc_score, orient='index', columns=[\"Accuracy Score\" ])   "
      ],
      "execution_count": 49,
      "outputs": [
        {
          "output_type": "execute_result",
          "data": {
            "text/plain": [
              "RandomForestClassifier(bootstrap=True, class_weight=None, criterion='gini',\n",
              "            max_depth=None, max_features='auto', max_leaf_nodes=None,\n",
              "            min_impurity_decrease=0.0, min_impurity_split=None,\n",
              "            min_samples_leaf=1, min_samples_split=2,\n",
              "            min_weight_fraction_leaf=0.0, n_estimators=10, n_jobs=-1,\n",
              "            oob_score=False, random_state=None, verbose=0,\n",
              "            warm_start=False)"
            ]
          },
          "metadata": {
            "tags": []
          },
          "execution_count": 49
        },
        {
          "output_type": "execute_result",
          "data": {
            "text/plain": [
              "DecisionTreeClassifier(class_weight=None, criterion='gini', max_depth=None,\n",
              "            max_features=None, max_leaf_nodes=None,\n",
              "            min_impurity_decrease=0.0, min_impurity_split=None,\n",
              "            min_samples_leaf=1, min_samples_split=2,\n",
              "            min_weight_fraction_leaf=0.0, presort=False, random_state=None,\n",
              "            splitter='best')"
            ]
          },
          "metadata": {
            "tags": []
          },
          "execution_count": 49
        },
        {
          "output_type": "execute_result",
          "data": {
            "text/plain": [
              "KNeighborsClassifier(algorithm='auto', leaf_size=30, metric='minkowski',\n",
              "           metric_params=None, n_jobs=-1, n_neighbors=5, p=2,\n",
              "           weights='uniform')"
            ]
          },
          "metadata": {
            "tags": []
          },
          "execution_count": 49
        },
        {
          "output_type": "execute_result",
          "data": {
            "text/html": [
              "<div>\n",
              "<style scoped>\n",
              "    .dataframe tbody tr th:only-of-type {\n",
              "        vertical-align: middle;\n",
              "    }\n",
              "\n",
              "    .dataframe tbody tr th {\n",
              "        vertical-align: top;\n",
              "    }\n",
              "\n",
              "    .dataframe thead th {\n",
              "        text-align: right;\n",
              "    }\n",
              "</style>\n",
              "<table border=\"1\" class=\"dataframe\">\n",
              "  <thead>\n",
              "    <tr style=\"text-align: right;\">\n",
              "      <th></th>\n",
              "      <th>Accuracy Score</th>\n",
              "    </tr>\n",
              "  </thead>\n",
              "  <tbody>\n",
              "    <tr>\n",
              "      <th>Random Forest Classifier</th>\n",
              "      <td>0.754234</td>\n",
              "    </tr>\n",
              "    <tr>\n",
              "      <th>Decision Tree Classifer</th>\n",
              "      <td>0.677376</td>\n",
              "    </tr>\n",
              "    <tr>\n",
              "      <th>KNeighbors Classifer</th>\n",
              "      <td>0.774919</td>\n",
              "    </tr>\n",
              "  </tbody>\n",
              "</table>\n",
              "</div>"
            ],
            "text/plain": [
              "                          Accuracy Score\n",
              "Random Forest Classifier        0.754234\n",
              "Decision Tree Classifer         0.677376\n",
              "KNeighbors Classifer            0.774919"
            ]
          },
          "metadata": {
            "tags": []
          },
          "execution_count": 49
        }
      ]
    },
    {
      "cell_type": "code",
      "metadata": {
        "id": "4V-eSNrod89S",
        "colab_type": "code",
        "colab": {}
      },
      "source": [
        ""
      ],
      "execution_count": 0,
      "outputs": []
    },
    {
      "cell_type": "code",
      "metadata": {
        "id": "XCeA8Zpld89U",
        "colab_type": "code",
        "colab": {}
      },
      "source": [
        ""
      ],
      "execution_count": 0,
      "outputs": []
    },
    {
      "cell_type": "code",
      "metadata": {
        "id": "gsW9HMo8d89V",
        "colab_type": "code",
        "colab": {}
      },
      "source": [
        ""
      ],
      "execution_count": 0,
      "outputs": []
    },
    {
      "cell_type": "code",
      "metadata": {
        "id": "Q0vAppmld89Y",
        "colab_type": "code",
        "colab": {}
      },
      "source": [
        ""
      ],
      "execution_count": 0,
      "outputs": []
    },
    {
      "cell_type": "code",
      "metadata": {
        "id": "Y5kjuyRtd89c",
        "colab_type": "code",
        "colab": {}
      },
      "source": [
        "from sklearn.base import BaseEstimator\n",
        "class DummyEstimator(BaseEstimator):\n",
        "    def fit(self): pass\n",
        "    def score(self): pass\n",
        "\n",
        "cv_pipe = Pipeline([('estimator', DummyEstimator())])\n",
        "\n",
        "classifier = dict()\n",
        "\n",
        "# classifier[\"Random Forest Classifier\"] = {\n",
        "#     'estimator':[clf_forest],\n",
        "# #     'estimator__criterion':['mse','mae'],\n",
        "#     'estimator__n_estimators':np.arange(200,700,100),\n",
        "# #     'estimator__max_depth':np.linspace(10, 110, num = 11)\n",
        "#     }\n",
        "\n",
        "# classifier[\"Decision Tree Classifier\"] = {\n",
        "\n",
        "#     'estimator': [clf_tree],\n",
        "# #     'estimator__max_depth':np.linspace(10, 110, num = 11),\n",
        "#     'estimator__criterion' : ['gini','entropy'],\n",
        "#     'estimator__min_samples_split':np.linspace(0.01,1,num=10)\n",
        "#     }\n",
        "\n",
        "classifier[\"KNeighbors Classifier\"]={\n",
        "    'estimator':[clf_knn],\n",
        "    'estimator__n_neighbors':np.arange(2,50,5),\n",
        "    'estimator__weights':[\"uniform\",\"distance\"]\n",
        "    }\n",
        "\n",
        "# classifier[\"Support Vector Classifier\"]={\n",
        "#     'estimator':[clf_svc],\n",
        "#     'estimator__kernel': ['linear', 'rbf'],\n",
        "#     'estimator__C': [0.001,0.01,0.1,1,10,100,1000],\n",
        "#     'estimator__gamma': [0.001,0.01,0.1,1,10,100,1000],\n",
        "#     }"
      ],
      "execution_count": 0,
      "outputs": []
    },
    {
      "cell_type": "code",
      "metadata": {
        "id": "AsScQg87d89g",
        "colab_type": "code",
        "colab": {}
      },
      "source": [
        "grid_score = {}\n",
        "for key in regressors:\n",
        "    grid = GridSearchCV(cv_pipe,param_grid=regressors[key], cv=3, scoring='accuracy')\n",
        "    grid.fit(X_train,y_train)\n",
        "    grid_score[key]=abs(grid.best_score_)\n",
        "#     print(f\"{key}: Mean Squared Error is : {abs(grid.best_score_)}\\n\")\n",
        "    print(grid.best_params_)\n",
        "pd.DataFrame.from_dict(grid_score, orient='index', columns=[\"accuracy score\"])  "
      ],
      "execution_count": 0,
      "outputs": []
    },
    {
      "cell_type": "code",
      "metadata": {
        "id": "xh1FdMxxd89k",
        "colab_type": "code",
        "colab": {
          "base_uri": "https://localhost:8080/",
          "height": 134
        },
        "outputId": "cb7a8f4e-2add-47d9-8858-fe0bdcc058d2"
      },
      "source": [
        "from sklearn.neural_network import MLPClassifier\n",
        "\n",
        "mlp = MLPClassifier(solver='adam',activation='relu',max_iter=250, hidden_layer_sizes= (30, 10), alpha= 1e-5)\n",
        "mlp.fit(X_train, y_train)\n",
        "predict = mlp.predict(X_test)\n",
        "trian_score =  mlp.score(X_train, y_train)\n",
        "test_score =  mlp.score(X_test, y_test)\n",
        "# mlp_cv = cross_val_score(mlp, X_train, y_train)\n",
        "\n",
        "\n",
        "print (f\"Accuracy Score is : {accuracy_score(y_test, predict)}\")\n",
        "\n"
      ],
      "execution_count": 55,
      "outputs": [
        {
          "output_type": "execute_result",
          "data": {
            "text/plain": [
              "MLPClassifier(activation='relu', alpha=1e-05, batch_size='auto', beta_1=0.9,\n",
              "       beta_2=0.999, early_stopping=False, epsilon=1e-08,\n",
              "       hidden_layer_sizes=(30, 10), learning_rate='constant',\n",
              "       learning_rate_init=0.001, max_iter=250, momentum=0.9,\n",
              "       n_iter_no_change=10, nesterovs_momentum=True, power_t=0.5,\n",
              "       random_state=None, shuffle=True, solver='adam', tol=0.0001,\n",
              "       validation_fraction=0.1, verbose=False, warm_start=False)"
            ]
          },
          "metadata": {
            "tags": []
          },
          "execution_count": 55
        },
        {
          "output_type": "stream",
          "text": [
            "Accuracy Score is : 0.7792501616031028\n"
          ],
          "name": "stdout"
        }
      ]
    },
    {
      "cell_type": "code",
      "metadata": {
        "id": "00mdEzlAd89n",
        "colab_type": "code",
        "colab": {}
      },
      "source": [
        ""
      ],
      "execution_count": 0,
      "outputs": []
    },
    {
      "cell_type": "code",
      "metadata": {
        "id": "mSnhmU_5z_hC",
        "colab_type": "code",
        "colab": {}
      },
      "source": [
        ""
      ],
      "execution_count": 0,
      "outputs": []
    },
    {
      "cell_type": "code",
      "metadata": {
        "id": "TOA8pMcX0pbY",
        "colab_type": "code",
        "colab": {}
      },
      "source": [
        ""
      ],
      "execution_count": 0,
      "outputs": []
    }
  ]
}